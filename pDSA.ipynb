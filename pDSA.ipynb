{
 "cells": [
  {
   "cell_type": "markdown",
   "metadata": {},
   "source": [
    "Slicing: we can slice substrings, sublist, subtuples using index\n",
    "structure -> [start : end + 1 : step]\n",
    "start => inclusive\n",
    "end => exclusive\n"
   ]
  },
  {
   "cell_type": "code",
   "execution_count": 397,
   "metadata": {},
   "outputs": [
    {
     "name": "stdout",
     "output_type": "stream",
     "text": [
      "omp\n",
      "opt\n",
      "puter\n",
      "comp\n",
      "r\n",
      "ter\n",
      "compu\n",
      "ptr\n"
     ]
    }
   ],
   "source": [
    "x = 'computer'\n",
    "print(x[1: 4])\n",
    "print(x[1: 6: 2])\n",
    "print(x[3:])\n",
    "print(x[:4])\n",
    "print(x[-1])\n",
    "print(x[-3:])\n",
    "print(x[: -3])\n",
    "print(x[-5::2])"
   ]
  },
  {
   "cell_type": "markdown",
   "metadata": {},
   "source": [
    "adding /concatenating: combine 2 sequences (string, list, tuple) of the same type by using + "
   ]
  },
  {
   "cell_type": "code",
   "execution_count": 398,
   "metadata": {},
   "outputs": [
    {
     "name": "stdout",
     "output_type": "stream",
     "text": [
      "horse shoe\n",
      "[1, 2, 3, 33, 22, 11]\n",
      "(1, 2, 3, 100)\n"
     ]
    }
   ],
   "source": [
    "x = 'horse'  + ' ' + 'shoe'\n",
    "y = [1, 2, 3] + [33,22, 11]\n",
    "z = (1,2,3) + (100,) # we add \",\" at the end of the 1 so we tell the python this is a tuple\n",
    "\n",
    "print(x)\n",
    "print(y)\n",
    "print(z)"
   ]
  },
  {
   "cell_type": "markdown",
   "metadata": {},
   "source": [
    "multiplying : mulitply a sequence using *"
   ]
  },
  {
   "cell_type": "code",
   "execution_count": 399,
   "metadata": {},
   "outputs": [
    {
     "name": "stdout",
     "output_type": "stream",
     "text": [
      "bugbugbug\n",
      "[1, 2, 3, 1, 2, 3, 1, 2, 3, 1, 2, 3]\n",
      "(1, 1, 1, 1)\n"
     ]
    }
   ],
   "source": [
    "x = 'bug' * 3\n",
    "y = [1,2,3] * 4\n",
    "z = (1,) * 4\n",
    "\n",
    "print(x)\n",
    "print(y)\n",
    "print(z)"
   ]
  },
  {
   "cell_type": "code",
   "execution_count": 400,
   "metadata": {},
   "outputs": [
    {
     "name": "stdout",
     "output_type": "stream",
     "text": [
      "bugtesttesttest\n",
      "[1, 3, 4, 1, 3, 4, 1, 3, 4, 122]\n",
      "(1, 23, 24, 4, 24, 4, 24, 4, 24, 4)\n"
     ]
    }
   ],
   "source": [
    "x = 'bug' + 'test' * 3\n",
    "y = [1,3,4] * 3 + [122]\n",
    "z = (1,23) + (24,4) * 4\n",
    "print(x)\n",
    "print(y)\n",
    "print(z)"
   ]
  },
  {
   "cell_type": "markdown",
   "metadata": {},
   "source": [
    "checking membership: test whether an item is a or not a member of a sequence using \"in\" key word\n",
    "eg: \n",
    "- 'u' in 'bug'\n",
    "- 23 in [1,2,3,4]\n",
    "- 'bug' in ('bug', 'test')"
   ]
  },
  {
   "cell_type": "code",
   "execution_count": 401,
   "metadata": {},
   "outputs": [
    {
     "name": "stdout",
     "output_type": "stream",
     "text": [
      "True\n",
      "False\n",
      "True\n"
     ]
    }
   ],
   "source": [
    "x = 'this is life'\n",
    "y = [1,3,4,5,6]\n",
    "z = (1,3,4,5,5)\n",
    "\n",
    "#print(3 in x) # this will throw an error ('in ' requires string as left operand, not int)\n",
    "print('this' in x)\n",
    "print('bug' in y) # but this wont throw error because numbers can be converted to string but not vice versa\n",
    "print(1 in z)\n",
    "\n"
   ]
  },
  {
   "cell_type": "markdown",
   "metadata": {},
   "source": [
    "iterating: iterating through a sequence can be done using for or foreach loop or use enumerate(lst) to get index and item\n",
    "\n",
    "foreach : for item in x:\n",
    "\n",
    "for: for i in range of (something)\n",
    "\n",
    "for enumerate: for index, item in enumerate(lst)"
   ]
  },
  {
   "cell_type": "code",
   "execution_count": 402,
   "metadata": {},
   "outputs": [
    {
     "name": "stdout",
     "output_type": "stream",
     "text": [
      "1\n",
      "3\n",
      "4\n",
      "5\n",
      "this life is great \n",
      "1  is in index  0\n",
      "3  is in index  1\n",
      "4  is in index  2\n",
      "5  is in index  3\n",
      "6  is in index  4\n"
     ]
    }
   ],
   "source": [
    "x = [1,3,4,5]\n",
    "for num in x:\n",
    "    print(num)\n",
    "\n",
    "y = ('this', 'life', 'is', 'great')\n",
    "res = ''\n",
    "for i in range(len(y)):\n",
    "    res += y[i] + ' '\n",
    "print(res)\n",
    "\n",
    "z = (1, 3, 4, 5,6)\n",
    "for index, item in enumerate(z):\n",
    "    print(str(item) , ' is in index ' , str(index))  # int should be explicitly converted to string otherwise we get error"
   ]
  },
  {
   "cell_type": "markdown",
   "metadata": {},
   "source": [
    "number of items: to get the count of item we use len(sequence)"
   ]
  },
  {
   "cell_type": "code",
   "execution_count": 403,
   "metadata": {},
   "outputs": [
    {
     "name": "stdout",
     "output_type": "stream",
     "text": [
      "3\n",
      "5\n",
      "6\n"
     ]
    }
   ],
   "source": [
    "x = 'bug'\n",
    "y = [1,3,5,5,6]\n",
    "z = (1,3,4,5,5,'bug')\n",
    "print(len(x))\n",
    "print(len(y))\n",
    "print(len(z))\n",
    "\n"
   ]
  },
  {
   "cell_type": "markdown",
   "metadata": {},
   "source": [
    "minimum : find the min item in a sequence lexicographically\n",
    "alpha or numeric but cannot mix both\n",
    "\n",
    "allowed -> min([1,3,55,5])\n",
    "not allowed -> min([1,3,4,5,'bg'])"
   ]
  },
  {
   "cell_type": "code",
   "execution_count": 404,
   "metadata": {},
   "outputs": [
    {
     "name": "stdout",
     "output_type": "stream",
     "text": [
      "a\n",
      "3\n",
      "ahb\n"
     ]
    }
   ],
   "source": [
    "x = 'buga'\n",
    "y = (55,3,4,5,3,5)\n",
    "z = ('jakc', 'sparw', 'ahb')\n",
    "print(min(x))\n",
    "print(min(y))\n",
    "print(min(z))"
   ]
  },
  {
   "cell_type": "markdown",
   "metadata": {},
   "source": [
    "maximum : finds the max item in a sequence lexicographically.\n",
    "alpha or numeric but not both"
   ]
  },
  {
   "cell_type": "code",
   "execution_count": 405,
   "metadata": {},
   "outputs": [
    {
     "name": "stdout",
     "output_type": "stream",
     "text": [
      "u\n",
      "200\n",
      "fsdf\n"
     ]
    }
   ],
   "source": [
    "x = 'bug'\n",
    "y = [13,4,5,2,3,200]\n",
    "z=('bdef', 'de4324','fsdf')\n",
    "print(max(x))\n",
    "print(max(y))\n",
    "print(max(z))"
   ]
  },
  {
   "cell_type": "markdown",
   "metadata": {},
   "source": [
    "sum: finds the sum of all elements in the sequence.\n",
    "\n",
    "elements must be numeric otherwise get error"
   ]
  },
  {
   "cell_type": "code",
   "execution_count": 406,
   "metadata": {},
   "outputs": [
    {
     "name": "stdout",
     "output_type": "stream",
     "text": [
      "18\n",
      "5\n",
      "19\n"
     ]
    }
   ],
   "source": [
    "# x = ['5ds', 'fbug',5]   # TypeError: unsupported operand type(s) for +: 'int' and 'str'\n",
    "# print(sum(x))\n",
    "\n",
    "y = [1,3,4,5,5]\n",
    "print(sum(y))\n",
    "\n",
    "print(sum(y[4:]))\n",
    "\n",
    "z = (1,3,5,5,6)\n",
    "print(sum(z[-4:]))"
   ]
  },
  {
   "cell_type": "markdown",
   "metadata": {},
   "source": [
    "sorting: \"sorted(sequence)\" returns a new list with items sorted. \n",
    "does not change the original sequence"
   ]
  },
  {
   "cell_type": "code",
   "execution_count": 407,
   "metadata": {},
   "outputs": [
    {
     "name": "stdout",
     "output_type": "stream",
     "text": [
      "['a', 'b', 'c', 'g', 'u']\n",
      "[1, 3, 3, 4, 5, 6, 22, 44, 223]\n",
      "['ava', 'habib', 'jack', 'tom']\n"
     ]
    }
   ],
   "source": [
    "x = 'bugac' # converts string to list and then sort it and return a new list\n",
    "print(sorted(x))\n",
    "\n",
    "y = [1,3,4,5,6,44,223,22,3]\n",
    "print(sorted(y))\n",
    "\n",
    "z = ('jack', 'habib', 'ava', 'tom')\n",
    "print(sorted(z))"
   ]
  },
  {
   "cell_type": "markdown",
   "metadata": {},
   "source": [
    "sorting with lambda function : we can sort elements of sequence using multiple or other parameter using lambda fuction\n",
    "\n",
    "structure: sorted(sequence, key = lambda item: item[1]) --> sorted based on the second character\n",
    "sequence = ['habib', 'jack', 'tom']"
   ]
  },
  {
   "cell_type": "code",
   "execution_count": 408,
   "metadata": {},
   "outputs": [
    {
     "name": "stdout",
     "output_type": "stream",
     "text": [
      "['habib', 'jack', 'tom']\n"
     ]
    }
   ],
   "source": [
    "sequence = ['habib', 'jack', 'tom']\n",
    "sorted_sequence = sorted(sequence, key = lambda item : item[-1])\n",
    "print(sorted_sequence)"
   ]
  },
  {
   "cell_type": "markdown",
   "metadata": {},
   "source": [
    "count(item) : returns the count of an element inside a sequence\n",
    "\n",
    "structure : sequence.count(item)"
   ]
  },
  {
   "cell_type": "code",
   "execution_count": 409,
   "metadata": {},
   "outputs": [
    {
     "name": "stdout",
     "output_type": "stream",
     "text": [
      "0\n",
      "2\n",
      "1\n"
     ]
    }
   ],
   "source": [
    "x = 'hippo'\n",
    "y = [1,3,4,5,3,2]\n",
    "z = ('jack', 'habib', 'tom')\n",
    "\n",
    "print(x.count('a'))\n",
    "print(y.count(3))\n",
    "print(z.count('habib'))"
   ]
  },
  {
   "cell_type": "markdown",
   "metadata": {},
   "source": [
    "index(item) : returns the first index of an item inside a sequence\n",
    "\n",
    "structure: sequence.index(item)\n",
    "\n",
    "if it does not find the element then it throws error \"substring not found\" or anything else not found"
   ]
  },
  {
   "cell_type": "code",
   "execution_count": 410,
   "metadata": {},
   "outputs": [
    {
     "name": "stdout",
     "output_type": "stream",
     "text": [
      "2\n",
      "1\n",
      "2\n"
     ]
    }
   ],
   "source": [
    "x = 'hippo'\n",
    "y = [1,3,4,5,3,2]\n",
    "z = ('jack', 'habib', 'tom')\n",
    "\n",
    "print(x.index('p'))\n",
    "#print(x.index(322)) --> TypeError: must be str, not int\n",
    "print(y.index(3))\n",
    "#print(z.index('to')) --> throws error : tuple.index(x): x not in tuple\n",
    "print(z.index('tom'))\n",
    "# print(x.index('a')) --> ValueError: substring not found\n"
   ]
  },
  {
   "cell_type": "markdown",
   "metadata": {},
   "source": [
    "unpacking: we can unpack a sequence into variables\n",
    "\n",
    "variables should be equal to number of items in the sequence"
   ]
  },
  {
   "cell_type": "code",
   "execution_count": 411,
   "metadata": {},
   "outputs": [
    {
     "name": "stdout",
     "output_type": "stream",
     "text": [
      "jack bom yom\n"
     ]
    }
   ],
   "source": [
    "x = ['jack','bom', 'yom']\n",
    "a, b, c = x\n",
    "print(a,b,c)\n",
    "\n",
    "# a,b = x  # ValueError: too many values to unpack (expected 2)\n",
    "# print(a,b)\n",
    "\n",
    "# a,b,c,d = x  # ValueError: not enough values to unpack (expected 4, got 3)\n",
    "# print(a,b,c,d)"
   ]
  },
  {
   "cell_type": "markdown",
   "metadata": {},
   "source": [
    "lists:\n",
    "- grow and shrink size as needed\n",
    "- sequence type\n",
    "- sortable "
   ]
  },
  {
   "cell_type": "code",
   "execution_count": 412,
   "metadata": {},
   "outputs": [
    {
     "name": "stdout",
     "output_type": "stream",
     "text": [
      "[1, 3, 4, 5]\n",
      "['a', 'b', 'c', 'd', 'e', 'f', 'e', 'w', 'r']\n",
      "[0, 1, 2, 3, 4, 5, 6, 7, 8, 9]\n",
      "[0, 4, 16, 36, 64]\n"
     ]
    }
   ],
   "source": [
    "x = list()\n",
    "y = [1,3,4, 'ab', '32', 3.2]\n",
    "\n",
    "t = (1,3,4,5)\n",
    "s = 'abcdefewr'\n",
    "z = list(t)\n",
    "z2 = list(s)\n",
    "print(z)\n",
    "print(z2)\n",
    "\n",
    "# list comprehension\n",
    "a = [m for m in range(10)]\n",
    "print(a)\n",
    "\n",
    "b = [i**2 for i in range(10) if i%2 == 0]\n",
    "print(b)\n"
   ]
  },
  {
   "cell_type": "markdown",
   "metadata": {},
   "source": [
    "delete: can delete an item or the whole list using \"del\" key word\n",
    "\n",
    "structures: \n",
    "- del(item)\n",
    "- del(lst)"
   ]
  },
  {
   "cell_type": "code",
   "execution_count": 413,
   "metadata": {},
   "outputs": [
    {
     "name": "stdout",
     "output_type": "stream",
     "text": [
      "[1, 3, 4, 2]\n",
      "[1, 4, 2]\n"
     ]
    }
   ],
   "source": [
    "x = [1,3,4,2]\n",
    "print(x)\n",
    "del(x[1])\n",
    "print(x)\n",
    "del(x)\n",
    "# print(x)  -> throws error since x does not exist anymore"
   ]
  },
  {
   "cell_type": "markdown",
   "metadata": {},
   "source": [
    "append : adds an item to the end of a list\n"
   ]
  },
  {
   "cell_type": "code",
   "execution_count": 414,
   "metadata": {},
   "outputs": [
    {
     "name": "stdout",
     "output_type": "stream",
     "text": [
      "[3, 4, 5, 6]\n",
      "[3, 4, 5, 6, 100]\n",
      "[3, 4, 5, 6, 100, [2, 3, 45]]\n"
     ]
    }
   ],
   "source": [
    "x = [3,4,5,6]\n",
    "print(x)\n",
    "\n",
    "x.append(100)\n",
    "print(x)\n",
    "\n",
    "x.append([2,3,45])\n",
    "print(x)"
   ]
  },
  {
   "cell_type": "markdown",
   "metadata": {},
   "source": [
    "extend: similar to + function adds all elements of a sequence to the end of our list"
   ]
  },
  {
   "cell_type": "code",
   "execution_count": 415,
   "metadata": {},
   "outputs": [
    {
     "name": "stdout",
     "output_type": "stream",
     "text": [
      "[4, 3, 2, 3]\n",
      "[4, 3, 2, 3, 44, 33, 22]\n",
      "[4, 3, 2, 3, 44, 33, 22, 's', 'b', 'd', 's', 'd', 'f']\n",
      "[4, 3, 2, 3, 44, 33, 22, 's', 'b', 'd', 's', 'd', 'f', 32, 32]\n"
     ]
    }
   ],
   "source": [
    "x = [4,3,2,3]\n",
    "y = [44,33,22]\n",
    "z = 'sbdsdf'\n",
    "\n",
    "t = (32,32)\n",
    "print(x)\n",
    "x.extend(y)\n",
    "print(x)\n",
    "\n",
    "x.extend(z)  # converts string to a list and then extends it to x\n",
    "print(x)\n",
    "\n",
    "x.extend(t)\n",
    "print(x)"
   ]
  },
  {
   "cell_type": "markdown",
   "metadata": {},
   "source": [
    "insert : inserts an item at a give index\n",
    "\n",
    "structure: sequence.insert(index, item)"
   ]
  },
  {
   "cell_type": "code",
   "execution_count": 416,
   "metadata": {},
   "outputs": [
    {
     "name": "stdout",
     "output_type": "stream",
     "text": [
      "[4, 3, 2, 34, 5]\n",
      "[4, 55, 3, 2, 34, 5]\n",
      "[4, 55, 3, 'abicd', 2, 34, 5]\n",
      "[4, 55, 3, 'abicd', 2, 34, 5, 112]\n",
      "[332, 4, 55, 3, 'abicd', 2, 34, 5, 112]\n"
     ]
    }
   ],
   "source": [
    "x = [4,3,2,34,5]\n",
    "y = 'abicd'\n",
    "print(x)\n",
    "\n",
    "x.insert(1,55)\n",
    "print(x)\n",
    "\n",
    "x.insert(3, y)\n",
    "print(x)\n",
    "\n",
    "x.insert(111, 112) # inserts 112 at the end of the list\n",
    "print(x)\n",
    "\n",
    "x.insert(-100, 332) # inserts 332 at the beginning of the list\n",
    "print(x)"
   ]
  },
  {
   "cell_type": "markdown",
   "metadata": {},
   "source": [
    "pop: pops the last items from the list and returns it"
   ]
  },
  {
   "cell_type": "code",
   "execution_count": 417,
   "metadata": {},
   "outputs": [
    {
     "name": "stdout",
     "output_type": "stream",
     "text": [
      "[1, 3, 4, 5] 6\n"
     ]
    }
   ],
   "source": [
    "x = [1,3,4,5,6]\n",
    "y = x.pop()\n",
    "\n",
    "print(x, y)\n"
   ]
  },
  {
   "cell_type": "markdown",
   "metadata": {},
   "source": [
    "remove: remove the first instance of an item\n",
    "\n",
    "if it does not find the element then throws error \"ValueError: list.remove(x): x not in list\""
   ]
  },
  {
   "cell_type": "code",
   "execution_count": 418,
   "metadata": {},
   "outputs": [
    {
     "name": "stdout",
     "output_type": "stream",
     "text": [
      "[1, 4, 3, 5, 6]\n"
     ]
    }
   ],
   "source": [
    "x = [1,3,4,3,5,6]\n",
    "x.remove(3)\n",
    "\n",
    "print(x)\n",
    "\n",
    "# x.remove(0)  ValueError: list.remove(x): x not in list\n"
   ]
  },
  {
   "cell_type": "markdown",
   "metadata": {},
   "source": [
    "reverse : reverses the order of a list. it is in-place operation and changes the actual list"
   ]
  },
  {
   "cell_type": "code",
   "execution_count": 419,
   "metadata": {},
   "outputs": [
    {
     "name": "stdout",
     "output_type": "stream",
     "text": [
      "[1, 3, 4, 5]\n",
      "[5, 4, 3, 1]\n",
      "[]\n"
     ]
    }
   ],
   "source": [
    "x = [1,3,4,5]\n",
    "print(x)\n",
    "x.reverse()\n",
    "print(x)\n",
    "\n",
    "y = []\n",
    "y.reverse()\n",
    "print(y)"
   ]
  },
  {
   "cell_type": "markdown",
   "metadata": {},
   "source": [
    "sort: sorts a list\n",
    "\n",
    "- sorted(x) : returned a new list\n",
    "- x.sort() : in-place sort and does not return a new list"
   ]
  },
  {
   "cell_type": "code",
   "execution_count": 420,
   "metadata": {},
   "outputs": [
    {
     "name": "stdout",
     "output_type": "stream",
     "text": [
      "[2, 3, 4, 6, 7, 8]\n"
     ]
    }
   ],
   "source": [
    "x =[4,3,2,6,8,7]\n",
    "x.sort()\n",
    "print(x)"
   ]
  },
  {
   "cell_type": "markdown",
   "metadata": {},
   "source": [
    "reverse sort: pass argument reverse=True to x.sort function\n",
    "\n",
    "structure: x.sort(reverse=True)"
   ]
  },
  {
   "cell_type": "code",
   "execution_count": 421,
   "metadata": {},
   "outputs": [
    {
     "name": "stdout",
     "output_type": "stream",
     "text": [
      "[42, 6, 4, 3, 3, 2, 1]\n"
     ]
    }
   ],
   "source": [
    "x = [1,4,6,42,3,2,3]\n",
    "x.sort(reverse=True)\n",
    "print(x)"
   ]
  },
  {
   "cell_type": "markdown",
   "metadata": {},
   "source": [
    "Tuples:\n",
    "\n",
    "- immutable (can't be changed)\n",
    "- hashable (can be used as a dictionary key)\n",
    "- faster than a list\n",
    "- sequence type"
   ]
  },
  {
   "cell_type": "code",
   "execution_count": 422,
   "metadata": {},
   "outputs": [
    {
     "name": "stdout",
     "output_type": "stream",
     "text": [
      "(2,) <class 'tuple'>\n",
      "(1, 3, 4, 5) <class 'tuple'>\n",
      "('a', 'b', 'c', 'd', 'e', 'f') <class 'tuple'>\n",
      "True\n",
      "False\n"
     ]
    }
   ],
   "source": [
    "x = ()\n",
    "x = (1,3,4)\n",
    "x = 1,3,4\n",
    "x = 2,\n",
    "\n",
    "print(x, type(x))\n",
    "\n",
    "l = [1,3,4,5]\n",
    "y = tuple(l)\n",
    "print(y, type(y))\n",
    "\n",
    "s = 'abcdef'\n",
    "z = tuple(s)\n",
    "print(z, type(z))\n",
    "\n",
    "print(type(z) == tuple)\n",
    "print(type(z) == str)"
   ]
  },
  {
   "cell_type": "markdown",
   "metadata": {},
   "source": [
    "tuples are immutable but member objects may be mutable."
   ]
  },
  {
   "cell_type": "code",
   "execution_count": 423,
   "metadata": {},
   "outputs": [
    {
     "name": "stdout",
     "output_type": "stream",
     "text": [
      "(1, 3, 45)\n",
      "([1, 3, 45], 3) 13808001664\n",
      "([1, 45], 3) 13808001664\n",
      "([1, 45], 3, 4, 3) 4463037952\n"
     ]
    }
   ],
   "source": [
    "x = (1,3,45)\n",
    "# del(x[1])  # TypeError: 'tuple' object doesn't support item deletion\n",
    "# x[1] =2  # TypeError: 'tuple' object does not support item assignment\n",
    "print(x)\n",
    "\n",
    "x = ([1,3,45], 3)\n",
    "print(x, id(x))\n",
    "del(x[0][1])\n",
    "print(x, id(x))\n",
    "\n",
    "x += (4,3)  #it allows concatenation -> because it creates a new tuple an returns a new tuple\n",
    "print(x, id(x))\n"
   ]
  },
  {
   "cell_type": "markdown",
   "metadata": {},
   "source": [
    "Sets:\n",
    "- store unique items\n",
    "- very fast access (O(1))\n",
    "- supports all math Set ops (union, intersect)\n",
    "- sets are unsorted (can't be sorted)"
   ]
  },
  {
   "cell_type": "code",
   "execution_count": 424,
   "metadata": {},
   "outputs": [
    {
     "name": "stdout",
     "output_type": "stream",
     "text": [
      "{1, 3, 4, 5, 6}\n",
      "set()\n",
      "{1, 2, 3, 4} <class 'set'> 4490986880\n",
      "{'c', 'b', 'd', 'e', 'f', 'a', 's'} 4490987776\n",
      "{'habib', 'c', 'b', 'd', 'e', 'f', 'a', 's'}\n",
      "{'habib', 'b', 'd', 'e', 'f', 'a', 's'}\n",
      "7\n",
      "False\n",
      "habib {'b', 'd', 'e', 'f', 'a', 's'}\n",
      "set()\n"
     ]
    }
   ],
   "source": [
    "x = {1,3,4,5,6,3}\n",
    "print(x)\n",
    "\n",
    "y = set()\n",
    "print(y)\n",
    "\n",
    "lst = [1,3,4,3,2,3]\n",
    "z = set(lst)\n",
    "print(z, type(z), id(z))\n",
    "\n",
    "s = 'abcdeffsd'\n",
    "zs = set(s)  #converts the string to a list and then add the list to set\n",
    "print(zs, id(zs))\n",
    "\n",
    "\n",
    "zs.add('habib')\n",
    "print(zs)\n",
    "\n",
    "#zs.remove('jack')  # cant find 'jack' throws error : KeyError: 'jack'\n",
    "#print(zs)\n",
    "\n",
    "zs.remove('c')\n",
    "print(zs)\n",
    "\n",
    "print(len(zs))\n",
    "\n",
    "print('c' in zs)\n",
    "\n",
    "print(zs.pop(), zs)\n",
    "\n",
    "zs.clear()\n",
    "print(zs)\n",
    "\n",
    "del(zs)\n",
    "# print(zs)"
   ]
  },
  {
   "cell_type": "markdown",
   "metadata": {},
   "source": [
    "Mathematical Set Operations:\n",
    "\n",
    "intersection (AND) : s1 & s2 \n",
    "union (OR) : s1 | s2\n",
    "symmetric difference (XOR): s1 ^ s2 (items that not shared between them)\n",
    "difference (-): s1 - s2 (items in s1 but not s2)\n",
    "subset (s2 contains s1): s1 <= s2\n",
    "superset (s1 contains s1): s1 >= s2"
   ]
  },
  {
   "cell_type": "code",
   "execution_count": 425,
   "metadata": {},
   "outputs": [
    {
     "name": "stdout",
     "output_type": "stream",
     "text": [
      "intersection  {3} <class 'set'>\n",
      "union  {1, 2, 3, 4, 5} <class 'set'>\n",
      "xor {1, 2, 4, 5} <class 'set'>\n",
      "difference  {1, 2, 3} - {3, 4, 5} {1, 2}\n",
      "{1, 2, 3} is subset of  {3, 4, 5} False\n",
      "{1, 2, 3} is superset of {3, 4, 5} False\n"
     ]
    }
   ],
   "source": [
    "s1 = {1,3,2}\n",
    "s2 = {3,4,5}\n",
    "\n",
    "i = s1 & s2\n",
    "print('intersection ', i, type(i))\n",
    "\n",
    "u = s1 | s2\n",
    "print('union ', u, type(u))\n",
    "\n",
    "x = s1 ^ s2\n",
    "print('xor', x, type(x))\n",
    "\n",
    "d = s1 - s2\n",
    "print('difference ', s1, '-',s2, d)\n",
    "\n",
    "sub = s1 <= s2\n",
    "print(s1, 'is subset of ', s2, sub)\n",
    "\n",
    "sup = s1 >= s2\n",
    "print(s1, 'is superset of', s2, sup)\n"
   ]
  },
  {
   "cell_type": "markdown",
   "metadata": {},
   "source": [
    "Dictionary (dict):\n",
    "- key/value pair\n",
    "- associative array, like java hashMap\n",
    "- it is unordered\n",
    "- can't be sorted"
   ]
  },
  {
   "cell_type": "code",
   "execution_count": 426,
   "metadata": {},
   "outputs": [
    {
     "name": "stdout",
     "output_type": "stream",
     "text": [
      "{'tea': 3.3, 'coffee': 4, 'water': 1}\n",
      "{'tea': 3.3, 'coffee': 4, 'water': 2}\n",
      "{'tea': 23, 'coffee': 43, 'water': 111}\n"
     ]
    }
   ],
   "source": [
    "x = {'tea':3.3, 'coffee':4, 'water':1}\n",
    "print(x)\n",
    "\n",
    "y = dict([('tea',3.3),('coffee',4), ('water',2)])\n",
    "print(y)\n",
    "\n",
    "z = dict(tea=23, coffee=43,water=111)\n",
    "print(z)"
   ]
  },
  {
   "cell_type": "markdown",
   "metadata": {},
   "source": [
    "dict operations"
   ]
  },
  {
   "cell_type": "code",
   "execution_count": 427,
   "metadata": {},
   "outputs": [
    {
     "name": "stdout",
     "output_type": "stream",
     "text": [
      "{'tea': 3.3, 'coffee': 4, 'water': 1, 'cola': 10}\n",
      "{'tea': 3.3, 'coffee': 4, 'water': 1}\n",
      "length of x 3\n",
      "{}\n"
     ]
    }
   ],
   "source": [
    "# add cola to dictionary x\n",
    "x = {'tea':3.3, 'coffee':4, 'water':1}\n",
    "x['cola'] = 10 # if cola was already there then it would update its value\n",
    "print(x)\n",
    "\n",
    "del(x['cola'])\n",
    "print(x)\n",
    "\n",
    "# del(x['class'])  # throws error because class is not a member of x (KeyError: 'class')\n",
    "# print(x)\n",
    "\n",
    "print('length of x', len(x))\n",
    "\n",
    "x.clear()\n",
    "print(x)\n",
    "\n",
    "del(x)"
   ]
  },
  {
   "cell_type": "markdown",
   "metadata": {},
   "source": [
    "accessing keys and values in a dict:\n",
    "we can access keys and values separately (won't work with python 2.0 or below)"
   ]
  },
  {
   "cell_type": "code",
   "execution_count": 428,
   "metadata": {},
   "outputs": [
    {
     "name": "stdout",
     "output_type": "stream",
     "text": [
      "dict_keys(['tea', 'coffee', 'water']) <class 'dict_keys'> 4490888432\n",
      "dict_values([3.3, 4, 1]) <class 'dict_values'> 4449237456\n",
      "dict_items([('tea', 3.3), ('coffee', 4), ('water', 1)]) <class 'dict_items'> 4449236016\n",
      "tea 3.3\n",
      "coffee 4\n",
      "water 1\n",
      "True\n",
      "False\n",
      "False\n",
      "True\n"
     ]
    }
   ],
   "source": [
    "x = {'tea':3.3, 'coffee':4, 'water':1}\n",
    "\n",
    "keys = x.keys()\n",
    "print(keys, type(keys), id(keys))\n",
    "\n",
    "values = x.values()\n",
    "print(values, type(values), id(values))\n",
    "\n",
    "items = x.items()\n",
    "print(items, type(items), id(items))\n",
    "\n",
    "for key, value in items:\n",
    "    print(key, value)\n",
    "\n",
    "\n",
    "print('coffee' in x) # check for keys automatically\n",
    "print('jack' in x)\n",
    "\n",
    "print(3 in x.values())\n",
    "print(3.3 in x.values())"
   ]
  },
  {
   "cell_type": "markdown",
   "metadata": {},
   "source": [
    "iterating a dict"
   ]
  },
  {
   "cell_type": "code",
   "execution_count": 429,
   "metadata": {},
   "outputs": [
    {
     "name": "stdout",
     "output_type": "stream",
     "text": [
      "tea\n",
      "coffee\n",
      "water\n",
      "tea 3.3\n",
      "coffee 4\n",
      "water 1\n",
      "{'tea': 100, 'coffee': 4, 'water': 1}\n"
     ]
    }
   ],
   "source": [
    "x = {'tea':3.3, 'coffee':4, 'water':1}\n",
    "\n",
    "for key in x:\n",
    "    print(key)\n",
    "\n",
    "for key, value in x.items():\n",
    "    if(key == 'tea'):\n",
    "        x[key] = 100\n",
    "    print(key, value)\n",
    "print(x)"
   ]
  },
  {
   "cell_type": "markdown",
   "metadata": {},
   "source": [
    "python list comprehensions\n",
    "\n",
    "structure: new_list = [transform sequence [filter]]"
   ]
  },
  {
   "cell_type": "code",
   "execution_count": 430,
   "metadata": {},
   "outputs": [],
   "source": [
    "import random"
   ]
  },
  {
   "cell_type": "markdown",
   "metadata": {},
   "source": [
    "EXAMPLE 1: get values with given range"
   ]
  },
  {
   "cell_type": "code",
   "execution_count": 431,
   "metadata": {},
   "outputs": [
    {
     "name": "stdout",
     "output_type": "stream",
     "text": [
      "[10, 11, 12, 13, 14, 15, 16, 17, 18, 19, 20, 21, 22, 23, 24, 25, 26, 27, 28, 29, 30, 31, 32, 33, 34, 35, 36, 37, 38, 39, 40, 41, 42, 43, 44, 45, 46, 47, 48, 49, 50, 51, 52, 53, 54, 55, 56, 57, 58, 59, 60, 61, 62, 63, 64, 65, 66, 67, 68, 69, 70, 71, 72, 73, 74, 75, 76, 77, 78, 79, 80, 81, 82, 83, 84, 85, 86, 87, 88, 89, 90, 91, 92, 93, 94, 95, 96, 97, 98, 99]\n",
      "[10, 11, 12, 13, 14, 15, 16, 17, 18, 19]\n",
      "between 10 and 20 [10, 11, 12, 13, 14, 15, 16, 17, 18, 19]\n"
     ]
    }
   ],
   "source": [
    "def get_list_values(end, start = 0, inclusive_end = False):\n",
    "    end = end + 1 if inclusive_end else end\n",
    "    lst = [num for num in range(start, end)]\n",
    "    return lst\n",
    "\n",
    "val_between_10_99 = get_list_values(99, 10, True)\n",
    "print(val_between_10_99)\n",
    "\n",
    "val_between_10_20 = get_list_values(20, 10, False)\n",
    "print(val_between_10_20)\n",
    "\n",
    "print('between 10 and 20', str(val_between_10_20))"
   ]
  },
  {
   "cell_type": "markdown",
   "metadata": {},
   "source": [
    "EXAMPLE 2: get sqaured values between given range"
   ]
  },
  {
   "cell_type": "code",
   "execution_count": 432,
   "metadata": {},
   "outputs": [
    {
     "name": "stdout",
     "output_type": "stream",
     "text": [
      "values between 10 and 20 [100, 121, 144, 169, 196, 225, 256, 289, 324, 361, 400]\n"
     ]
    }
   ],
   "source": [
    "def get_squared_range(start = 0, end = 0, inclusive_end = False):\n",
    "    end = end + 1 if inclusive_end else end\n",
    "    lst = [num ** 2 for num in range(start,end)]\n",
    "    \n",
    "    return lst\n",
    "\n",
    "range_10_20 = get_squared_range(10, 20, inclusive_end=True)\n",
    "print('values between 10 and 20', range_10_20)\n"
   ]
  },
  {
   "cell_type": "markdown",
   "metadata": {},
   "source": [
    "EXAMPLE 3: get n power of values between range start and end"
   ]
  },
  {
   "cell_type": "code",
   "execution_count": 433,
   "metadata": {},
   "outputs": [
    {
     "name": "stdout",
     "output_type": "stream",
     "text": [
      "power 4 of 10 to 20 [10000, 14641, 20736, 28561, 38416, 50625, 65536, 83521, 104976, 130321]\n"
     ]
    }
   ],
   "source": [
    "def get_n_power_range(start = 0, end = 0, power = 1, inclusive_end = False):\n",
    "    end = end + 1 if inclusive_end else end\n",
    "\n",
    "    lst = [num ** power for num in range(start,end)]\n",
    "    return lst\n",
    "\n",
    "range_10_20_4 = get_n_power_range(10, 20, 4)\n",
    "print('power 4 of 10 to 20', range_10_20_4)\n"
   ]
  },
  {
   "cell_type": "markdown",
   "metadata": {},
   "source": [
    "EXAMPLE 4: get odd numbers give a range"
   ]
  },
  {
   "cell_type": "code",
   "execution_count": 434,
   "metadata": {},
   "outputs": [
    {
     "name": "stdout",
     "output_type": "stream",
     "text": [
      "odd value between 5 and 20 [5, 7, 9, 11, 13, 15, 17, 19]\n"
     ]
    }
   ],
   "source": [
    "def get_odd_range(start, end):\n",
    "    lst = [num for num in range(start, end) if num % 2 != 0]\n",
    "    return lst\n",
    "\n",
    "odd_5_20 = get_odd_range(5, 20)\n",
    "print('odd value between 5 and 20', odd_5_20)"
   ]
  },
  {
   "cell_type": "markdown",
   "metadata": {},
   "source": [
    "EXAMPLE 5: get mulitply of 10"
   ]
  },
  {
   "cell_type": "code",
   "execution_count": 435,
   "metadata": {},
   "outputs": [
    {
     "name": "stdout",
     "output_type": "stream",
     "text": [
      "[10, 20]\n"
     ]
    }
   ],
   "source": [
    "def get_multiply_10(start, end):\n",
    "    return [num for num in range(start, end) if num % 10 == 0]\n",
    "    \n",
    "print(get_multiply_10(5, 29))"
   ]
  },
  {
   "cell_type": "markdown",
   "metadata": {},
   "source": [
    "EXAMPLE 6: get all numbers from a string"
   ]
  },
  {
   "cell_type": "code",
   "execution_count": 436,
   "metadata": {},
   "outputs": [
    {
     "name": "stdout",
     "output_type": "stream",
     "text": [
      "[2, 0, 7, 3]\n",
      "12\n"
     ]
    }
   ],
   "source": [
    "s = 'I love 2 go t0 7eleven and 3at.'\n",
    "nums = [int(chr) for chr in (s) if chr.isdigit()]\n",
    "print(nums)\n",
    "print(sum(nums))"
   ]
  },
  {
   "cell_type": "markdown",
   "metadata": {},
   "source": [
    "EXAMPLE 7: get index of a given item"
   ]
  },
  {
   "cell_type": "code",
   "execution_count": 437,
   "metadata": {},
   "outputs": [
    {
     "name": "stdout",
     "output_type": "stream",
     "text": [
      "[7, 13, 15, 27]\n"
     ]
    }
   ],
   "source": [
    "s = 'I love 2 go t0 7eleven and 3at.'\n",
    "index_of_nums = [i for i,v in enumerate(s) if v.isdigit()] \n",
    "print(index_of_nums)"
   ]
  },
  {
   "cell_type": "markdown",
   "metadata": {},
   "source": [
    "EXAMPLE 8: given a list delete give item "
   ]
  },
  {
   "cell_type": "code",
   "execution_count": 438,
   "metadata": {},
   "outputs": [
    {
     "name": "stdout",
     "output_type": "stream",
     "text": [
      "['a', 'b', 'c', 'd', 'e', 'f']\n",
      "['e', 'b', 'd', 'f', 'a', 'c']\n",
      "no d here ['e', 'b', 'f', 'a', 'c']\n"
     ]
    }
   ],
   "source": [
    "letters = [x for x in 'abcdef']\n",
    "print(letters)\n",
    "\n",
    "random.shuffle(letters)\n",
    "print(letters)\n",
    "\n",
    "#return all values that are not d\n",
    "not_d_lst = [chr for chr in letters if chr != 'd']\n",
    "print('no d here', not_d_lst)"
   ]
  },
  {
   "cell_type": "markdown",
   "metadata": {},
   "source": [
    "if - else condition in comprehension\n",
    "\n",
    "- if and else should come before iteration"
   ]
  },
  {
   "cell_type": "markdown",
   "metadata": {},
   "source": [
    "EXAMPLE 9: mulitply only even by 10"
   ]
  },
  {
   "cell_type": "code",
   "execution_count": 439,
   "metadata": {},
   "outputs": [
    {
     "name": "stdout",
     "output_type": "stream",
     "text": [
      "[1, 20, 3, 40, 5, 60, 7, 80, 9, 100, 11, 120, 13, 140, 15, 160, 17, 180, 19]\n"
     ]
    }
   ],
   "source": [
    "nums = [num for num in range(1, 20)]\n",
    "\n",
    "even_multiply = [num * 10 if num % 2 == 0 else num for num in nums]\n",
    "print(even_multiply)"
   ]
  },
  {
   "cell_type": "markdown",
   "metadata": {},
   "source": [
    "nested loop iteration for 2d lst\n",
    "\n",
    "b is the subsets, x is the value"
   ]
  },
  {
   "cell_type": "code",
   "execution_count": 440,
   "metadata": {},
   "outputs": [
    {
     "name": "stdout",
     "output_type": "stream",
     "text": [
      "[2, 4, 6, 8]\n"
     ]
    }
   ],
   "source": [
    "a = [[1,2], [3,4]]\n",
    "new_lst = [x*2 for b in a for x in b]\n",
    "print(new_lst)"
   ]
  },
  {
   "cell_type": "markdown",
   "metadata": {},
   "source": [
    "stacks: \n",
    "- last in first out (LIFO)\n",
    "- last item (or top) get poped\n",
    "\n",
    "operations:\n",
    "- pop : removes and returns top element (last element)\n",
    "- peek: returns the the top element\n",
    "- clear: removes all elements from the stack\n",
    "\n",
    "usage:\n",
    "- used for undo and redo (keeping track of changes)\n",
    "\n",
    "- stack can be implemented using list"
   ]
  },
  {
   "cell_type": "code",
   "execution_count": 441,
   "metadata": {},
   "outputs": [
    {
     "name": "stdout",
     "output_type": "stream",
     "text": [
      "3\n",
      "2\n"
     ]
    }
   ],
   "source": [
    "stack = list()\n",
    "stack.append(1)\n",
    "stack.append(2)\n",
    "stack.append(3)\n",
    "\n",
    "print(stack.pop())\n",
    "print(stack.pop())"
   ]
  },
  {
   "cell_type": "markdown",
   "metadata": {},
   "source": [
    "Stack Wrapper class:\n",
    "\n",
    "implementation of Stack class using python list with below functions\n",
    "\n",
    "- pop : remove and return last element of stack\n",
    "- peek: return the last element of the stack\n",
    "- size: return the size of the stack\n",
    "- push: put element to the end of the stack\n",
    "- clear: remove all elements from stack\n"
   ]
  },
  {
   "cell_type": "code",
   "execution_count": 442,
   "metadata": {},
   "outputs": [
    {
     "name": "stdout",
     "output_type": "stream",
     "text": [
      "4\n",
      "4\n",
      "\n",
      "3\n",
      "[]\n"
     ]
    }
   ],
   "source": [
    "class Stack(list):\n",
    "    def __init__(self):\n",
    "        super().__init__(self)\n",
    "    \n",
    "    def push(self, item):\n",
    "        super().append(item)\n",
    "    \n",
    "    def pop(self):\n",
    "        if(super().__sizeof__() > 0):\n",
    "            return super().pop()\n",
    "\n",
    "    def peek(self):\n",
    "        if(super().__sizeof__() > 0):\n",
    "            return self[-1]\n",
    "\n",
    "    def clear(self) -> None:\n",
    "        return super().clear()\n",
    "    \n",
    "    def size(self):\n",
    "        return super.__sizeof__()\n",
    "    \n",
    "    def __str__(self):\n",
    "        return super().__str__()\n",
    "    \n",
    "\n",
    "s = Stack()\n",
    "s.push(1)\n",
    "s.push(2)\n",
    "s.push(3)\n",
    "s.push(4)\n",
    "\n",
    "print(s.peek())\n",
    "print(s.pop())\n",
    "print()\n",
    "print(s.pop())\n",
    "\n",
    "s.clear()\n",
    "print(s)\n",
    "\n",
    "\n"
   ]
  },
  {
   "cell_type": "markdown",
   "metadata": {},
   "source": [
    "queue:\n",
    "- First in and first out (FIFO)\n",
    "\n",
    "operations:\n",
    "- enqueue : add an item to the end of the line\n",
    "- dequeue : remove an item from the beginning of the line\n",
    "\n",
    "usage:\n",
    "- anything the represents a line\n",
    "\n",
    "implementation:\n",
    "- Can use python builtin class deque\n",
    "- implement using linked list or list"
   ]
  },
  {
   "cell_type": "code",
   "execution_count": 443,
   "metadata": {},
   "outputs": [
    {
     "name": "stdout",
     "output_type": "stream",
     "text": [
      "deque([1, 2, 3])\n",
      "1\n",
      "3\n"
     ]
    }
   ],
   "source": [
    "from collections import deque\n",
    "\n",
    "#functions\n",
    "# append : add item the end of deque\n",
    "# popleft: remove item from the beginning of the list\n",
    "# pop: remove item from the end of the list\n",
    "\n",
    "q = deque()\n",
    "\n",
    "q.append(1)\n",
    "q.append(2)\n",
    "q.append(3)\n",
    "\n",
    "print(q)\n",
    "print(q.popleft())\n",
    "print(q.pop())\n"
   ]
  },
  {
   "cell_type": "markdown",
   "metadata": {},
   "source": [
    "Queue Implementation:\n",
    " functions:\n",
    " - enqueue : add item to the end of the queue\n",
    " - dequeue : remove item from the beginning of the queue\n",
    " - size : return the size of the queue"
   ]
  },
  {
   "cell_type": "code",
   "execution_count": 444,
   "metadata": {},
   "outputs": [
    {
     "ename": "SyntaxError",
     "evalue": "incomplete input (72388464.py, line 12)",
     "output_type": "error",
     "traceback": [
      "\u001b[0;36m  Cell \u001b[0;32mIn [444], line 12\u001b[0;36m\u001b[0m\n\u001b[0;31m    \u001b[0m\n\u001b[0m    ^\u001b[0m\n\u001b[0;31mSyntaxError\u001b[0m\u001b[0;31m:\u001b[0m incomplete input\n"
     ]
    }
   ],
   "source": [
    "class Queue(list):\n",
    "    def __init__(self):\n",
    "        super().__init__()\n",
    "        self.head = 0\n",
    "        self.tail = 0\n",
    "\n",
    "    def enqueue(self, item):    \n",
    "        super().append(item)\n",
    "\n",
    "    def dequeue(self):\n",
    "        if(super.__sizeof__() > 0):\n",
    "            \n"
   ]
  },
  {
   "cell_type": "markdown",
   "metadata": {},
   "source": [
    "max heap:\n",
    "- complete binary tree (parent has two child or less)\n",
    "- every node <=  it parent\n",
    "\n",
    "\n",
    "                    25\n",
    "                16      24\n",
    "            5     11    19      1\n",
    "        2   3   5           \n",
    "\n",
    "operations:\n",
    "- insert : O(log n)\n",
    "- get max : O(1)\n",
    "- remove max : O(log n)\n",
    "\n",
    "get children:\n",
    "- left child : i * 2\n",
    "- right child : i * 2 + 1\n",
    "\n",
    "parent:\n",
    "- i // 2\n",
    "\n",
    "\n",
    "functions:\n",
    "- push (insert):\n",
    "    - add value to the end of the array\n",
    "    - float it up to its proper position (bubble up)\n",
    "\n",
    "- pop ( remove item from top of heap)\n",
    "    - move max to the end of the array (replace with the last element)\n",
    "    - take it and remove it\n",
    "    - bubble down the new element from the top of the array to its right position\n",
    "    - return max\n",
    "\n",
    "- peek : return item in the top of the heap\n"
   ]
  },
  {
   "cell_type": "code",
   "execution_count": null,
   "metadata": {},
   "outputs": [
    {
     "name": "stdout",
     "output_type": "stream",
     "text": [
      "[0, 25, 24, 11, 19, 16, 1, 3, 2, 5, 5]\n",
      "25\n",
      "25\n",
      "[0, 24, 19, 11, 5, 16, 1, 3, 2, 5]\n",
      "24\n",
      "[0, 19, 16, 11, 5, 5, 1, 3, 2]\n",
      "None\n",
      "None\n",
      "[0, 34, 19, 11, 9, 16, 1, 3, 2, 5, 5]\n",
      "34\n",
      "19\n",
      "[0, 16, 9, 11, 5, 5, 1, 3, 2]\n",
      "16\n",
      "[0, 11, 9, 3, 5, 5, 1, 2]\n",
      "11\n",
      "9\n",
      "5\n",
      "5\n",
      "[0, 3, 2, 1]\n",
      "3\n",
      "2\n",
      "[0, 1]\n",
      "1\n",
      "None\n"
     ]
    }
   ],
   "source": [
    "class MaxHeap(list):\n",
    "    def __init__(self, items = []):\n",
    "        super().__init__()\n",
    "        super().append(0)\n",
    "\n",
    "        for item in items:\n",
    "            super().append(item)\n",
    "            self.__bubbleUp(len(self) - 1)\n",
    "        \n",
    "    def push(self, item):\n",
    "        super().append(item)\n",
    "        self.__bubbleUp(len(self) - 1)\n",
    "    \n",
    "    def peek(self):\n",
    "        if self[1]:\n",
    "            return self[1]\n",
    "    \n",
    "    def pop(self):\n",
    "        if len(self) <= 1: return None\n",
    "        n = len(self) - 1\n",
    "        \n",
    "        self[1], self[n] = self[n], self[1]\n",
    "        mx = super().pop()\n",
    "\n",
    "        self.__bubbleDown(1)\n",
    "        return mx\n",
    "    \n",
    "    def __bubbleDown(self, index):\n",
    "        n = len(self)\n",
    "        if index >= n: return \n",
    "\n",
    "        left = index * 2\n",
    "        right = index * 2 + 1\n",
    "        largest  = index\n",
    "\n",
    "        if(left < n and self[left] > self[index]):\n",
    "            index = left\n",
    "        if(right < n and self[right] > self[index]):\n",
    "            index = right\n",
    "        if largest != index:\n",
    "            self[largest], self[index] = self[index], self[largest]\n",
    "            self.__bubbleDown(index)\n",
    "\n",
    "    def __bubbleUp(self, index):\n",
    "        \n",
    "        parent = index // 2\n",
    "\n",
    "        if index <= 1: return \n",
    "            \n",
    "        if self[index] > self[parent]:\n",
    "            self[index], self[parent] = self[parent], self[index]\n",
    "            self.__bubbleUp(parent)\n",
    "\n",
    "    \n",
    "    def __str__(self):\n",
    "        return super().__str__()\n",
    "\n",
    "        #             25\n",
    "        #         16      24\n",
    "        #     5     11    19      1\n",
    "        # 2   3   5     \n",
    "\n",
    "lst = [2,3,5,5,11,1,19,24,25,16]\n",
    "\n",
    "mxh = MaxHeap(lst)   \n",
    "print(mxh)\n",
    "print(mxh.peek())\n",
    "print(mxh.pop())\n",
    "print(mxh)\n",
    "\n",
    "print(mxh.pop())\n",
    "print(mxh)\n",
    "print(mxh.push(9))\n",
    "print(mxh.push(34))\n",
    "print(mxh)\n",
    "print(mxh.pop())\n",
    "print(mxh.pop())\n",
    "print(mxh)\n",
    "print(mxh.pop())\n",
    "print(mxh)\n",
    "print(mxh.pop())\n",
    "print(mxh.pop())\n",
    "print(mxh.pop())\n",
    "print(mxh.pop())\n",
    "print(mxh)\n",
    "print(mxh.pop())\n",
    "print(mxh.pop())\n",
    "print(mxh)\n",
    "print(mxh.pop())\n",
    "print(mxh.pop())"
   ]
  },
  {
   "cell_type": "markdown",
   "metadata": {},
   "source": [
    "min heap:\n",
    "- it is the opposite of max heap\n",
    "\n",
    "operations:\n",
    "- insert : O(log n)\n",
    "- get min : O(1)\n",
    "- remove min : O(log n)\n",
    "\n",
    "get children:\n",
    "- left child : i * 2\n",
    "- right child : i * 2 + 1\n",
    "\n",
    "parent:\n",
    "- i // 2\n",
    "\n",
    "push:\n",
    "- insert element to the end of the array\n",
    "- bubble up until it reaches its right position (where all element above is smaller than me)\n",
    "\n",
    "pop:\n",
    "- remove the smallest element\n",
    "- replace [1] with the last element\n",
    "- pop the last element into variable mi\n",
    "- bobbule down the top element to its right position\n",
    "- return mi\n",
    "\n",
    "peek:\n",
    "- return the smallest element from top of min heap"
   ]
  },
  {
   "cell_type": "code",
   "execution_count": null,
   "metadata": {},
   "outputs": [
    {
     "name": "stdout",
     "output_type": "stream",
     "text": [
      "[0, 1, 3, 2, 5, 11, 5, 19, 24, 25, 16]\n",
      "[0, 1, 1, 2, 5, 3, 5, 19, 24, 25, 16, 11]\n",
      "1\n",
      "1\n",
      "2\n",
      "3\n",
      "5\n",
      "5\n",
      "11\n",
      "[0, 16, 19, 25, 24]\n",
      "16\n",
      "19\n",
      "24\n",
      "25\n",
      "None\n",
      "None\n"
     ]
    }
   ],
   "source": [
    "class MinHeap(list):\n",
    "    def __init__(self, items = []):\n",
    "        super().__init__()\n",
    "        self.append(0)\n",
    "\n",
    "        for item in items:\n",
    "            self.append(item)\n",
    "            self.__bubbleUp(len(self) - 1)\n",
    "    \n",
    "    def push(self, item):\n",
    "        self.append(item)\n",
    "        self.__bubbleUp(len(self) - 1)\n",
    "\n",
    "    def pop(self):\n",
    "        n = len(self)\n",
    "\n",
    "        if(n <= 1): return \n",
    "\n",
    "        self[1] , self[n-1] = self[n-1], self[1]\n",
    "        mi = super().pop()\n",
    "\n",
    "        self.__bubbleDown(1)\n",
    "        return mi\n",
    "\n",
    "\n",
    "    def __bubbleDown(self, index):\n",
    "        n = len(self)\n",
    "\n",
    "        if(index >= n): return \n",
    "\n",
    "        left = index * 2\n",
    "        right = index * 2 + 1\n",
    "\n",
    "        smallest = index\n",
    "        if(left < n and self[left] < self[index]):\n",
    "            index = left\n",
    "        if(right < n and self[right] < self[index]):\n",
    "            index = right\n",
    "        if smallest != index:\n",
    "            self[smallest], self[index] = self[index], self[smallest]\n",
    "            self.__bubbleDown(index)\n",
    "        \n",
    "    def __bubbleUp(self, index):\n",
    "        if index < 1: return\n",
    "\n",
    "        parent = index // 2\n",
    "        if(self[parent] > self[index]):\n",
    "            self[index], self[parent] = self[parent], self[index]\n",
    "            self.__bubbleUp(parent)\n",
    "\n",
    "    \n",
    "mi = MinHeap([2,3,5,5,11,1,19,24,25,16])\n",
    "print(mi)\n",
    "mi.push(1)\n",
    "print(mi)\n",
    "print(mi.pop())\n",
    "print(mi.pop())\n",
    "print(mi.pop())\n",
    "print(mi.pop())\n",
    "print(mi.pop())\n",
    "print(mi.pop())\n",
    "print(mi.pop())\n",
    "print(mi)\n",
    "print(mi.pop())\n",
    "print(mi.pop())\n",
    "print(mi.pop())\n",
    "print(mi.pop())\n",
    "print(mi.pop())\n",
    "print(mi.pop())\n",
    "\n",
    "\n",
    "\n"
   ]
  },
  {
   "cell_type": "markdown",
   "metadata": {},
   "source": [
    "linked list:\n",
    "- made of nodes\n",
    "- node have two attributes\n",
    "    - data\n",
    "    - pointer to the next node\n",
    "\n",
    "\n",
    "operations:\n",
    "- add(item) : add item to the linked list\n",
    "- remove(item): remove the first occurance of the item\n",
    "\n"
   ]
  },
  {
   "cell_type": "markdown",
   "metadata": {},
   "source": [
    "Node class:\n",
    "-  has constructor, gets data, next node and prev node\n",
    "\n",
    "Parameters:\n",
    "- data\n",
    "- next node\n",
    "- prev node\n",
    "\n",
    "functions\n",
    "- to string"
   ]
  },
  {
   "cell_type": "code",
   "execution_count": null,
   "metadata": {},
   "outputs": [],
   "source": [
    "class Node:\n",
    "    def __init__(self, data, n = None, p = None):\n",
    "        self.data = data\n",
    "        self.next = n\n",
    "        self.prev = p\n",
    "    \n",
    "    def __str__(self) -> str:\n",
    "        return f'({str(self.data)})'\n",
    "    "
   ]
  },
  {
   "cell_type": "code",
   "execution_count": null,
   "metadata": {},
   "outputs": [],
   "source": [
    "class LinkedList:\n",
    "    def __init__(self, root = None):\n",
    "        self.root = root\n",
    "        self.size = 0\n",
    "\n",
    "    def add(self, data):\n",
    "        new_node = Node(data, self.root, None) # data, next node is our root\n",
    "\n",
    "        self.root = new_node\n",
    "        self.size += 1\n",
    "    \n",
    "    def find(self, data):\n",
    "        head = self.root\n",
    "        while head:\n",
    "            if head.data == data: return head\n",
    "            head = head.next\n",
    "        return None\n",
    "    # remove the first occurance of data from the list\n",
    "    def remove(self, data):\n",
    "    \n",
    "        if(not self.root): return False\n",
    "        if(self.root.data == data): \n",
    "            self.root = self.root.next\n",
    "            self.size -= 1\n",
    "\n",
    "        prev = self.root\n",
    "        head = prev.next\n",
    "\n",
    "        while head:\n",
    "            if head.data == data:\n",
    "                prev.next = head.next\n",
    "                self.size -= 1\n",
    "                return True\n",
    "            prev = head\n",
    "            head = head.next\n",
    "        return False\n",
    "\n",
    "    def size(self):\n",
    "        return self.size\n",
    "\n",
    "    def __str__(self):\n",
    "        if(not self.root): return 'None'\n",
    "        head = self.root\n",
    "        nodes = []\n",
    "        while head:\n",
    "\n",
    "            nodes.append(str(head.data))\n",
    "            head = head.next\n",
    "\n",
    "        return '->'.join(nodes)\n",
    "\n",
    "            \n",
    "\n",
    "        "
   ]
  },
  {
   "cell_type": "code",
   "execution_count": null,
   "metadata": {},
   "outputs": [
    {
     "name": "stdout",
     "output_type": "stream",
     "text": [
      "8->7->6->5\n",
      "8->7->5\n",
      "4->8->7->5\n",
      "8->7->5\n",
      "7\n",
      "None\n"
     ]
    }
   ],
   "source": [
    "lst = LinkedList()\n",
    "lst.add(5)\n",
    "lst.add(6)\n",
    "lst.add(7)\n",
    "lst.add(8)\n",
    "print(lst)\n",
    "lst.remove(6)\n",
    "print(lst)\n",
    "lst.add(4)\n",
    "print(lst)\n",
    "lst.remove(4)\n",
    "print(lst)\n",
    "print(lst.find(7))\n",
    "print(lst.find(10))"
   ]
  },
  {
   "cell_type": "markdown",
   "metadata": {},
   "source": [
    "Circular linked list:\n",
    "- similar to regular linked list however:\n",
    "    - the end node refrence back to the start node\n",
    "\n",
    "1 -> 2 -> 3 -> 4\n",
    "   <- <- <- <-\n",
    "- insert: we insert new node as the second node\n",
    "    - don't update the root node\n",
    "    root -> new Node -> second node\n",
    "\n",
    "- in add: check if size is zero if so root = new node and root.next = self.root\n",
    "    else same as above logic\n"
   ]
  },
  {
   "cell_type": "code",
   "execution_count": null,
   "metadata": {},
   "outputs": [],
   "source": [
    "class CircularLinkedList:\n",
    "    def __init__(self, root = None):\n",
    "        self.root = root\n",
    "        self.size = 0\n",
    "\n",
    "    def add(self, data):\n",
    "        if(self.size == 0):\n",
    "            self.root = Node(data)\n",
    "            self.root.next = self.root\n",
    "        else:\n",
    "            new_node = Node(data, self.root.next)\n",
    "            self.root.next = new_node\n",
    "        self.size += 1\n",
    "    \n",
    "    def find(self, data):\n",
    "        head = self.root\n",
    "        while True:\n",
    "            if(head.data == data): return head\n",
    "            if(head.next == self.root): return None\n",
    "            head = head.next\n",
    "        return None\n",
    "    \n",
    "    def remove(self, data):\n",
    "        if(not self.root): return False\n",
    "\n",
    "        prev = None\n",
    "        head = self.root\n",
    "\n",
    "        while True:\n",
    "            if(head.data == data):\n",
    "                if(prev is not None):\n",
    "                    prev.next = head.next\n",
    "                else:\n",
    "                    while head.next != self.root:\n",
    "                        head = head.next\n",
    "                    head.next = self.root.next\n",
    "                    self.root = self.root.next\n",
    "                self.size -= 1\n",
    "                return True\n",
    "            elif head == self.root:\n",
    "                return False\n",
    "            prev = head\n",
    "            head = head.next\n",
    "        return False\n",
    "\n",
    "    def __str__(self):\n",
    "        if(not self.root): return 'None'\n",
    "        head = self.root\n",
    "        nodes = []\n",
    "        while True:\n",
    "            \n",
    "            nodes.append(str(head.data))\n",
    "            head = head.next\n",
    "            if(head == self.root): break\n",
    "        return '->'.join(nodes)\n"
   ]
  },
  {
   "cell_type": "code",
   "execution_count": null,
   "metadata": {},
   "outputs": [
    {
     "name": "stdout",
     "output_type": "stream",
     "text": [
      "1->5->4->3->2\n",
      "5->4->3->2\n",
      "5->20->4->3->2\n",
      "20\n",
      "2\n"
     ]
    }
   ],
   "source": [
    "lst = CircularLinkedList()\n",
    "lst.add(1)\n",
    "lst.add(2)\n",
    "lst.add(3)\n",
    "lst.add(4)\n",
    "lst.add(5)\n",
    "print(lst)\n",
    "lst.remove(1)\n",
    "print(lst)\n",
    "lst.add(20)\n",
    "print(lst)\n",
    "print(lst.find(20))\n",
    "print(lst.find(2))\n",
    "\n"
   ]
  },
  {
   "cell_type": "markdown",
   "metadata": {},
   "source": [
    "doubly linked list:\n",
    "\n",
    "parameters:\n",
    "- data\n",
    "- prev node\n",
    "- next node\n"
   ]
  },
  {
   "cell_type": "code",
   "execution_count": null,
   "metadata": {},
   "outputs": [],
   "source": [
    "class DoublyLinkedList:\n",
    "    def __init__(self, root = None):\n",
    "        self.root = root\n",
    "        self.last = root\n",
    "        self.size = 0\n",
    "    \n",
    "\n",
    "    def add(self, data):\n",
    "        newNode = Node(data)\n",
    "        if not self.root :\n",
    "            self.root = newNode\n",
    "        else:\n",
    "            newNode.next = self.root\n",
    "            self.root.prev = newNode\n",
    "            self.root = newNode\n",
    "        self.size += 1\n",
    "\n",
    "    def find(self, data):\n",
    "        head = self.root\n",
    "        while head:\n",
    "            if(head.data == data): return head\n",
    "            head = head.next\n",
    "        return None\n",
    "\n",
    "    def remove(self, data):\n",
    "        head = self.root\n",
    "\n",
    "        while head:\n",
    "            if(head.data == data):\n",
    "                if(head.prev is None):\n",
    "                    self.root = head.next\n",
    "                    if(self.root):\n",
    "                        self.root.prev = None\n",
    "                else:\n",
    "                    if(head.next):\n",
    "                        head.next.prev = head.prev\n",
    "                    head.prev.next = head.next\n",
    "                self.size -= 1\n",
    "                return True\n",
    "            head = head.next\n",
    "        return False\n",
    "    \n",
    "    def __str__(self):\n",
    "        head = self.root\n",
    "        nodes = []\n",
    "        while head:\n",
    "            nodes.append(str(head.data))\n",
    "            head = head.next\n",
    "        return '->'.join(nodes)\n",
    "\n",
    "\n",
    "\n"
   ]
  },
  {
   "cell_type": "code",
   "execution_count": null,
   "metadata": {},
   "outputs": [
    {
     "name": "stdout",
     "output_type": "stream",
     "text": [
      "4->3->2->1\n",
      "3->2->1\n",
      "3->1\n",
      "1\n",
      "None\n",
      "1\n",
      "\n"
     ]
    }
   ],
   "source": [
    "lst = DoublyLinkedList()\n",
    "lst.add(1)\n",
    "lst.add(2)\n",
    "lst.add(3)\n",
    "lst.add(4)\n",
    "print(lst)\n",
    "lst.remove(4)\n",
    "print(lst)\n",
    "lst.remove(2)\n",
    "# lst.remove(100)\n",
    "print(lst)\n",
    "lst.remove(3)\n",
    "print(lst)\n",
    "print(lst.find(3))\n",
    "print(lst.find(1))\n",
    "lst.remove(1)\n",
    "print(lst)"
   ]
  },
  {
   "cell_type": "markdown",
   "metadata": {},
   "source": [
    "Trees : \n",
    "    - node\n",
    "    - edge = connection\n",
    "    - root = first node\n",
    "    - parent has multiple children\n",
    "    - leaf node doesn't have any children\n",
    "    - ancestor any node above me\n",
    "    - decendents any node below me\n",
    "\n",
    "    - any node is greater than left subtree\n",
    "    - any node is less than right subtree\n",
    "\n",
    "    operation:\n",
    "    - insert\n",
    "    - find\n",
    "    - delete \n",
    "    - get size\n",
    "    - traversal"
   ]
  },
  {
   "cell_type": "markdown",
   "metadata": {},
   "source": [
    "BST Insert:\n",
    "- start at root\n",
    "\n",
    "- always insert as a leaf\n",
    "- compare new value with each node\n",
    "- if greater then go the right subtree\n",
    "- else go to left subtree\n",
    "\n",
    "\n",
    "BST Find:\n",
    "- start at root\n",
    "- compare with it root\n",
    "    - if bigger then go to right subtree\n",
    "    - else go to left subtree\n",
    "    - return if found\n",
    "    - else None\n",
    "\n",
    "BST Delete:\n",
    "- 3 possible cases:\n",
    "    - node is leaf node\n",
    "        - just set the parent either left or right to None\n",
    "    - node has one child\n",
    "        - promote the child node to the parents position\n",
    "    - node has two children\n",
    "        - find the next higher node from the right subtree\n",
    "        - swap the node with its biggest child\n",
    "            - delete the node similar to leaf node\n",
    "\n",
    "BST Size:\n",
    "- returns the number of nodes recursively\n",
    "size = 1 + size(left subtree) + size(right subtree)\n",
    "\n",
    "\n",
    "PRE ORDER TRAVERSAL:\n",
    "- visit root before visiting the roots subtrees\n",
    "    - process root\n",
    "    - process left subtree\n",
    "    - process right subtree\n",
    "\n",
    "IN ORDER TRAVERSAL\n",
    "- vist root's left subtree then root then right\n",
    "    - process left subtree\n",
    "    - process root\n",
    "    - process right subtree\n",
    "\n",
    "\n",
    "TIME COMPLEXITY:\n",
    "- insert, delete, find : O(h or height) = O(log n)\n",
    "\n",
    "\n",
    "FUNCTIONS:\n",
    "- constructor : sets three attributes: data, left subtree, and right subtree\n",
    "- insert: insert a new subtree into the proper location\n",
    "- find: finds a value in the tree\n",
    "- get_size: returns the size of the tree\n",
    "- preorder: prints preorder traversal of the tree\n",
    "- inorder: prints inorder traversal of the tree"
   ]
  },
  {
   "cell_type": "markdown",
   "metadata": {},
   "source": []
  },
  {
   "cell_type": "code",
   "execution_count": null,
   "metadata": {},
   "outputs": [],
   "source": [
    "class Node:\n",
    "    def __init__(self, data, left = None, right = None):\n",
    "        self.data = data\n",
    "        self.left = left\n",
    "        self.right = right\n",
    "\n",
    "    \n",
    "    def __str__(self):\n",
    "        return f'({self.data})'"
   ]
  },
  {
   "cell_type": "code",
   "execution_count": null,
   "metadata": {},
   "outputs": [],
   "source": [
    "class Tree:\n",
    "    def __init__(self, data, left = None, right = None):\n",
    "        self.data = data\n",
    "        self.left = left\n",
    "        self.right = right\n",
    "\n",
    "    def insert(self, data):\n",
    "        if self.data == data: return False\n",
    "        elif self.data > data:\n",
    "            if self.left is not None:\n",
    "                return self.left.insert(data)\n",
    "            else:\n",
    "                self.left = Tree(data)\n",
    "                return True\n",
    "        else:\n",
    "            if self.right is not None:\n",
    "                return self.right.insert(data)\n",
    "            else:\n",
    "                self.right = Tree(data)\n",
    "                return True\n",
    "    \n",
    "    def find(self, data):\n",
    "        if self.data == data: return data\n",
    "        elif self.data > data:\n",
    "            if self.left is not None:\n",
    "                return self.left.find(data)\n",
    "            return False\n",
    "        else:\n",
    "            if self.right is not None:\n",
    "                return self.right.find(data)\n",
    "            return False\n",
    "        \n",
    "    def get_size(self):\n",
    "        size = 1\n",
    "        if(self.right): size += self.right.get_size()\n",
    "        if(self.left): size += self.left.get_size()\n",
    "        \n",
    "        return size \n",
    "    \n",
    "    def preorder(self):\n",
    "        print(self.data, end = ' ')\n",
    "        if(self.right): self.right.preorder()\n",
    "        if(self.left): self.left.preorder()\n",
    "\n",
    "    def inorder(self):\n",
    "        if(self.left): self.left.inorder()\n",
    "        print(self.data, end = ' ')\n",
    "        if(self.right): self.right.inorder()\n",
    "\n",
    "    \n"
   ]
  },
  {
   "cell_type": "code",
   "execution_count": null,
   "metadata": {},
   "outputs": [
    {
     "name": "stdout",
     "output_type": "stream",
     "text": [
      "False False False False False False False 7 False False 10 11 12 13 14 15 16 17 18 19 False False False False \n",
      " 12\n",
      "7 43 10 11 12 13 14 15 16 17 18 19 \n",
      "7 10 11 12 13 14 15 16 17 18 19 43 \n"
     ]
    }
   ],
   "source": [
    "t = Tree(7)\n",
    "t.insert(43)\n",
    "\n",
    "nums = [t for t in range(10, 20)]\n",
    "\n",
    "for num in nums:\n",
    "    t.insert(num)\n",
    "\n",
    "for i in range(24):\n",
    "    print(t.find(i), end = ' ')\n",
    "\n",
    "print('\\n', t.get_size())\n",
    "\n",
    "t.preorder()\n",
    "print()\n",
    "t.inorder()\n",
    "print()"
   ]
  },
  {
   "cell_type": "markdown",
   "metadata": {},
   "source": [
    "sliding window: a lot of array questions that involve finding some sub array that meets a \n",
    "specific condition can be solved by sliding window technieque\n",
    "\n",
    "fixed size sliding window: when the sliding window is fix \n",
    "eg: find max sub array that with length k \n",
    "\n"
   ]
  },
  {
   "cell_type": "markdown",
   "metadata": {},
   "source": [
    "SLIDING WINDOW MENTAL MODEL:\n",
    "    - things we iterate over sequentially \n",
    "        - contiguous sequence of elements\n",
    "        - strings, arrays, linked lists\n",
    "    - critera with min, max, longest, shortest, of contained a specific criteria or number\n",
    "        - maybe we need to calculate something --> running average\n",
    "    \n",
    "    QUESTION VARIANTS:\n",
    "    -   fixed length: \n",
    "        - given a specific length \n",
    "    - dynamic variant:\n",
    "        - find subarray that fits this criteria\n",
    "        - or smallest sum that fits this cirteria\n",
    "        - or find window that is close to our criteria\n",
    "    - dynamic variant with auxillary Data Structure\n",
    "        - find longest substring with no more k distinct characters\n",
    "        - find longest unique substring\n",
    "        - string permutation -> given two string and asking if s1 is sub string s2\n",
    "\n",
    "    COMMONALITY:\n",
    "        - everything grouped sequentially (list, string, linked list)\n",
    "        - has key words like longest, smallest, contains,  maximize or minimize something\n",
    "         "
   ]
  },
  {
   "cell_type": "markdown",
   "metadata": {},
   "source": [
    "example: find max sum of subarray with length of k"
   ]
  },
  {
   "cell_type": "code",
   "execution_count": null,
   "metadata": {},
   "outputs": [
    {
     "name": "stdout",
     "output_type": "stream",
     "text": [
      "15\n",
      "20\n"
     ]
    }
   ],
   "source": [
    "def max_subarray_k(arr, k):\n",
    "    n = len(arr)\n",
    "    if n < k: return 0\n",
    "    if n == k: return sum(arr)\n",
    "    start = 0\n",
    "    end = k\n",
    "\n",
    "    maxSum = sum(arr[:k])\n",
    "    prevSum = maxSum\n",
    "    # start += 1\n",
    "    # end += 1\n",
    "    for i in range(1, n - k + 1):\n",
    "        prevSum = prevSum - arr[i-1]\n",
    "        prevSum = prevSum + arr[i+k-1]\n",
    "        maxSum = max(maxSum, prevSum)\n",
    "        # start += 1\n",
    "        # end += 1\n",
    "    return maxSum\n",
    "arr = [1,2,3,4,5,6]\n",
    "print(max_subarray_k(arr, 3))\n",
    "print(max_subarray_k(arr,5))\n",
    "        \n",
    "        "
   ]
  },
  {
   "cell_type": "markdown",
   "metadata": {},
   "source": [
    "example 2: find each sum of length of k subarrays"
   ]
  },
  {
   "cell_type": "code",
   "execution_count": null,
   "metadata": {},
   "outputs": [
    {
     "name": "stdout",
     "output_type": "stream",
     "text": [
      "[6, 9, 12, 15]\n",
      "[15, 20]\n"
     ]
    }
   ],
   "source": [
    "def sum_length_k_subarrays(arr, k):\n",
    "    n = len(arr)\n",
    "    if n < k: return 0\n",
    "    if n == k: return [sum(arr)]\n",
    "\n",
    "\n",
    "    current_sub = sum(arr[:k])\n",
    "    result = [current_sub]\n",
    "\n",
    "    for i in range(1, n - k + 1):\n",
    "        current_sub = current_sub - arr[i-1]\n",
    "        current_sub = current_sub + arr[i + k - 1]\n",
    "        result.append(current_sub)\n",
    "    return result\n",
    "\n",
    "arr = [1,2,3,4,5,6]\n",
    "print(sum_length_k_subarrays(arr, 3))\n",
    "print(sum_length_k_subarrays(arr,5))"
   ]
  },
  {
   "cell_type": "markdown",
   "metadata": {},
   "source": [
    "example 3: find minimum sum of subarray length k"
   ]
  },
  {
   "cell_type": "code",
   "execution_count": null,
   "metadata": {},
   "outputs": [
    {
     "name": "stdout",
     "output_type": "stream",
     "text": [
      "2\n",
      "22\n"
     ]
    }
   ],
   "source": [
    "def minSumSubK(arr, k):\n",
    "    n = len(arr)\n",
    "    if n <= k: return sum(arr)\n",
    "\n",
    "    min_sum = sum(arr[:k])\n",
    "    current_sum = min_sum\n",
    "\n",
    "    for i in range(1, n - k + 1):\n",
    "        current_sum = current_sum - arr[i-1] + arr[i+k-1]\n",
    "        min_sum = min(current_sum, min_sum)\n",
    "    return min_sum\n",
    "arr = [1,2,3,1,2,1,1,14,5,6]\n",
    "print(minSumSubK(arr, 2))\n",
    "print(minSumSubK(arr, 6))"
   ]
  },
  {
   "cell_type": "markdown",
   "metadata": {},
   "source": [
    "example 4: find all sub arrays that have minimum sum with length of k"
   ]
  },
  {
   "cell_type": "code",
   "execution_count": null,
   "metadata": {},
   "outputs": [
    {
     "name": "stdout",
     "output_type": "stream",
     "text": [
      "[[1, 1]]\n",
      "[[1, 2, 1], [2, 1, 1]]\n",
      "[[1, 1]]\n",
      "[[1, 2, 1], [2, 1, 1]]\n"
     ]
    }
   ],
   "source": [
    "def allSubArraysWithMinSum(arr,k):\n",
    "    n = len(arr)\n",
    "    if n < k: return []\n",
    "    if n == k: return [arr]\n",
    "\n",
    "    result = [arr[:k]]\n",
    "    min_sum = sum(arr[:k])\n",
    "    current_sum = min_sum\n",
    "\n",
    "    for i in range(1, n - k + 1):\n",
    "        current_sum = current_sum - arr[i-1] + arr[i+k-1]\n",
    "        if current_sum < min_sum:\n",
    "            min_sum = current_sum\n",
    "            while(result and sum(result[-1]) > current_sum):\n",
    "                result.pop()\n",
    "            result.append(arr[i:i + k])\n",
    "        elif current_sum == min_sum:\n",
    "            result.append(arr[i:i + k])\n",
    "    return result\n",
    "\n",
    "# ABOVE IS A BAD SOLUTION\n",
    "\n",
    "# find the min value \n",
    "# then find all sub array equal to min value\n",
    "\n",
    "def allSubArraysWithMinSumBetter(arr,k):\n",
    "    n = len(arr)\n",
    "    if n < k: return []\n",
    "    if n == k: return [arr]\n",
    "\n",
    "    # calculate minSum with length of k\n",
    "    min_sum = sum(arr[:k])\n",
    "    current_sum = min_sum\n",
    "\n",
    "    for i in range(1, n - k + 1):\n",
    "        current_sum = current_sum - arr[i-1] + arr[i+k-1]\n",
    "        min_sum = min(current_sum, min_sum)\n",
    "\n",
    "    result = []\n",
    "    current_sum = sum(arr[:k])\n",
    "\n",
    "    for i in range(1, n - k + 1):\n",
    "        current_sum = current_sum - arr[i-1] + arr[i + k - 1]\n",
    "        if current_sum == min_sum: result.append(arr[i : i + k])\n",
    "    return result\n",
    "\n",
    "\n",
    "arr = [1,2,3,1,2,1,1,14,5,6]\n",
    "print(allSubArraysWithMinSum(arr, 2 ))\n",
    "print(allSubArraysWithMinSum(arr, 3 ))\n",
    "\n",
    "print(allSubArraysWithMinSumBetter(arr, 2 ))\n",
    "print(allSubArraysWithMinSumBetter(arr, 3 ))\n"
   ]
  },
  {
   "cell_type": "markdown",
   "metadata": {},
   "source": [
    "dynamically-sized sliding window: we can use this technique when we need to \n",
    "- find a subarray of any length that meet a specific condition\n",
    "- find a list of subarrays of any length that meet a specific condition\n",
    "\n",
    "NOTE: or we try to find largest or smallest subarray that satisfies a condition\n",
    "\n",
    "eg: find shortest sub array with sum greater or equal to\n"
   ]
  },
  {
   "cell_type": "markdown",
   "metadata": {},
   "source": [
    "example: get min length of sub array that sum is greater or equal to k"
   ]
  },
  {
   "cell_type": "code",
   "execution_count": null,
   "metadata": {},
   "outputs": [
    {
     "name": "stdout",
     "output_type": "stream",
     "text": [
      "2\n",
      "1\n"
     ]
    }
   ],
   "source": [
    "def minSubSumK(arr, k):\n",
    "    \n",
    "    n = len(arr)\n",
    "    min_length = float('inf')\n",
    "    start, end, current_sum = 0, 0, 0\n",
    "\n",
    "    while end < n:\n",
    "        current_sum += arr[end]\n",
    "        end += 1\n",
    "\n",
    "        while start < end and current_sum >= k:\n",
    "            current_sum -= arr[start]\n",
    "            start += 1\n",
    "\n",
    "            min_length = min(min_length, end - start + 1)\n",
    "    return min_length\n",
    "\n",
    "arr = [1,2,3,4,5,6]\n",
    "print(minSubSumK(arr, 7))\n",
    "print(minSubSumK(arr, 6))"
   ]
  },
  {
   "cell_type": "markdown",
   "metadata": {},
   "source": [
    "Dynamic variant with auxillary data structure\n",
    "\n",
    "eg: find the longest subarray that number of unique chars \n",
    "are not greater than k"
   ]
  },
  {
   "cell_type": "code",
   "execution_count": null,
   "metadata": {},
   "outputs": [
    {
     "name": "stdout",
     "output_type": "stream",
     "text": [
      "5\n",
      "3\n",
      "6\n"
     ]
    }
   ],
   "source": [
    "def longestSubArrayUniqueK(s, k):\n",
    "    mx_length = 0\n",
    "    n = len(s)\n",
    "    start = 0\n",
    "    end = 0\n",
    "    chrs = {}\n",
    "\n",
    "    while end < n:\n",
    "        if s[end] not in chrs:\n",
    "            if len(chrs) == k:\n",
    "                mx_length = max(mx_length, end - start)\n",
    "                while(start < end and chrs[s[start]] > 0):\n",
    "                    chrs[s[start]] -= 1\n",
    "                    start += 1\n",
    "                if(s[start] in chrs and chrs[s[start]] <= 0):\n",
    "                    del(chrs[s[start]])\n",
    "            chrs[s[end]] = 0            \n",
    "        chrs[s[end]] += 1\n",
    "        end += 1\n",
    "    return mx_length\n",
    "\n",
    "s = 'AAAHHIBC'\n",
    "print(longestSubArrayUniqueK(s, 2))\n",
    "print(longestSubArrayUniqueK(s, 1))\n",
    "print(longestSubArrayUniqueK(s, 3))\n",
    "                \n"
   ]
  },
  {
   "cell_type": "code",
   "execution_count": null,
   "metadata": {},
   "outputs": [],
   "source": [
    "from collections import Counter\n",
    "class Solution:\n",
    "    def longestSubstring(self, s: str, k: int) -> int:\n",
    "        n = len(s)\n",
    "\n",
    "        counter = Counter()\n",
    "        total_counter = Counter(s)\n",
    "        if not any(c < k for c in total_counter.values()): return len(s)\n",
    "        start = 0\n",
    "        end = 0\n",
    "        max_length = 0\n",
    "        print(total_counter)\n",
    "        while end < n:\n",
    "            current_chr = s[end]\n",
    "            if total_counter[current_chr] < k:\n",
    "                # max_length = max(max_length, end - start)\n",
    "                while start < end and counter[s[start]] < k:\n",
    "                    counter[s[start]] -= 1\n",
    "                    if counter[s[start]] <= 0:\n",
    "                        del(counter[s[start]])\n",
    "                    start += 1\n",
    "                i = end-1\n",
    "                while i > start and counter[s[i]] < k:\n",
    "                    counter[s[i]] -=1\n",
    "                    if counter[s[i]] <= 0:\n",
    "                        del(counter[s[i]])\n",
    "                    i -= 1\n",
    "                    start += 1\n",
    "\n",
    "                if counter[s[start]] >= k and not any(c < k for c in counter.values()):\n",
    "                    print('end',end, 'start',start)\n",
    "                    max_length = max(max_length,end - start)\n",
    "\n",
    "                start = end \n",
    "            else:\n",
    "                counter[s[end]] += 1\n",
    "                sum_of_bad = 0\n",
    "                if counter[s[end]] >= k:\n",
    "                    for v in counter.values():\n",
    "                        if v < k: sum_of_bad += v\n",
    "                    sub1 = Counter(s[(end+1 - counter[s[end]])  : end + 1])\n",
    "                    sub = sub1[s[end]] if  len(sub1) == 1 and counter[s[end]] == sub1[s[end]] else 0\n",
    "\n",
    "\n",
    "                    i = start\n",
    "                    while sum_of_bad > 0 and counter[s[i]] < k:\n",
    "                        counter[s[i]] -= 1\n",
    "                        if counter[s[i]] == 0:\n",
    "                            del(counter[s[i]])\n",
    "                        i += 1\n",
    "                        sum_of_bad -= 1\n",
    "                    j = end\n",
    "                    while sum_of_bad > 0 and counter[s[j]] < k:\n",
    "                        counter[s[j]] -= 1\n",
    "                        if counter[s[j]] == 0:\n",
    "                            delf(counter[s[j]])\n",
    "                        j-=1\n",
    "                        sum_of_bad -= 1\n",
    "\n",
    "                    \n",
    "                \n",
    "                    if not any(c < k for c in counter.values()):\n",
    "                        print('in the sub')\n",
    "                        max_length = max(max_length, j-i)\n",
    "                        \n",
    "                    else:\n",
    "                        max_length = max(max_length, sub)\n",
    "                        \n",
    "                        \n",
    "                        print('end',end, 'start',i, 'max',max_length)\n",
    "\n",
    "            end += 1\n",
    "\n",
    "\n",
    "            \n",
    "\n",
    "            \n",
    "        return max_length if max_length >= k else 0\n",
    "\n",
    "\n",
    "\n",
    "        "
   ]
  },
  {
   "cell_type": "code",
   "execution_count": 457,
   "metadata": {},
   "outputs": [
    {
     "name": "stdout",
     "output_type": "stream",
     "text": [
      "7\n",
      "0\n",
      "3 2 3\n",
      "1 3 1\n",
      "5 4 5\n",
      "2 5 2\n",
      "True\n",
      "a\n"
     ]
    }
   ],
   "source": [
    "# print(1^2^3)\n",
    "# print(1^2)\n",
    "# print(2^3)\n",
    "print(3^4)\n",
    "print(2^3^4^5)\n",
    "\n",
    "nums = [1,2,3,4,5]\n",
    "mx = 0\n",
    "start = 0 \n",
    "end = 1\n",
    "xo = nums[start]\n",
    "while end < len(nums):\n",
    "    \n",
    "    xo = xo ^ nums[end]\n",
    "    mx = max(xo, mx)\n",
    "    if xo == 0:\n",
    "        while start <= end and xo == 0:\n",
    "            xo ^= nums[start]\n",
    "            start += 1\n",
    "    \n",
    "    print(xo, nums[end], xo)\n",
    "    end += 1\n",
    "\n",
    "print(set([1,2]) == set([1,2]))\n",
    "s = \"abc\"\n",
    "print(s[0:0+1])"
   ]
  },
  {
   "attachments": {
    "image.png": {
     "image/png": "[encoded data removed]"
    }
   },
   "cell_type": "markdown",
   "metadata": {},
   "source": [
    "Graphs:\n",
    "    - has verticies and edges\n",
    "    - verticies = Node\n",
    "    - edges = connections\n",
    "\n",
    "Undirected graph:\n",
    "    - edges goes both ways\n",
    "\n",
    "Directed graph:\n",
    "    - edges goes between connected nodes with specific direction\n",
    "\n",
    "Representation:\n",
    "    - adjacency list:\n",
    "        - list of neighbors stored in each vertex\n",
    "        - eg: dictionary of set\n",
    "    \n",
    "    - adjacency matrix:\n",
    "        - matrix of neighbors stored in a 2d array\n",
    "\n",
    "\n",
    "\n",
    "Eg: \n",
    "- Adjacency list\n",
    "    a: b, c,e\n",
    "    b: a, c\n",
    "    c: a,b,d,e\n",
    "    d: c\n",
    "    e: a, c\n",
    "    ![image.png](attachment:image.png)\n",
    "\n",
    "- adjancency matrix\n",
    "    a   b   c   d   e\n",
    "a       1   1       1\n",
    "b   1       1\n",
    "c   1   1       1   1\n",
    "d           1\n",
    "e   1       1\n",
    "\n",
    "- weighted graph is better to implement with adjacency matrix\n",
    "    - instead 1 put the weight of edges\n",
    "- we can implement directed with with adjacency list and matrix\n",
    "\n",
    "Which is better\n",
    "- Dense graph -> adjacency matrix\n",
    "- sparse graph -> adjacency list\n",
    "\n",
    "AJDACENCY LSIT\n",
    "- fast and uses less space for sparse graphs\n",
    "- slow for dense graph\n",
    "\n",
    "ADJACENCY MATRIX\n",
    "- faster for dense graph\n",
    "- simpler for weighted edges\n",
    "- uses more space\n"
   ]
  }
 ],
 "metadata": {
  "kernelspec": {
   "display_name": "Python 3",
   "language": "python",
   "name": "python3"
  },
  "language_info": {
   "codemirror_mode": {
    "name": "ipython",
    "version": 3
   },
   "file_extension": ".py",
   "mimetype": "text/x-python",
   "name": "python",
   "nbconvert_exporter": "python",
   "pygments_lexer": "ipython3",
   "version": "3.11.0"
  },
  "orig_nbformat": 4
 },
 "nbformat": 4,
 "nbformat_minor": 2
}
