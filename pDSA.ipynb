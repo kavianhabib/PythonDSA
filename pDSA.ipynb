{
 "cells": [
  {
   "cell_type": "markdown",
   "metadata": {},
   "source": [
    "Slicing: we can slice substrings, sublist, subtuples using index\n",
    "structure -> [start : end + 1 : step]\n",
    "start => inclusive\n",
    "end => exclusive\n"
   ]
  },
  {
   "cell_type": "code",
   "execution_count": 8,
   "metadata": {},
   "outputs": [
    {
     "name": "stdout",
     "output_type": "stream",
     "text": [
      "omp\n",
      "opt\n",
      "puter\n",
      "comp\n",
      "r\n",
      "ter\n",
      "compu\n",
      "ptr\n"
     ]
    }
   ],
   "source": [
    "x = 'computer'\n",
    "print(x[1: 4])\n",
    "print(x[1: 6: 2])\n",
    "print(x[3:])\n",
    "print(x[:4])\n",
    "print(x[-1])\n",
    "print(x[-3:])\n",
    "print(x[: -3])\n",
    "print(x[-5::2])"
   ]
  },
  {
   "cell_type": "markdown",
   "metadata": {},
   "source": [
    "adding /concatenating: combine 2 sequences (string, list, tuple) of the same type by using + "
   ]
  },
  {
   "cell_type": "code",
   "execution_count": 10,
   "metadata": {},
   "outputs": [
    {
     "name": "stdout",
     "output_type": "stream",
     "text": [
      "horse shoe\n",
      "[1, 2, 3, 33, 22, 11]\n",
      "(1, 2, 3, 100)\n"
     ]
    }
   ],
   "source": [
    "x = 'horse'  + ' ' + 'shoe'\n",
    "y = [1, 2, 3] + [33,22, 11]\n",
    "z = (1,2,3) + (100,) # we add \",\" at the end of the 1 so we tell the python this is a tuple\n",
    "\n",
    "print(x)\n",
    "print(y)\n",
    "print(z)"
   ]
  },
  {
   "cell_type": "markdown",
   "metadata": {},
   "source": [
    "multiplying : mulitply a sequence using *"
   ]
  },
  {
   "cell_type": "code",
   "execution_count": 11,
   "metadata": {},
   "outputs": [
    {
     "name": "stdout",
     "output_type": "stream",
     "text": [
      "bugbugbug\n",
      "[1, 2, 3, 1, 2, 3, 1, 2, 3, 1, 2, 3]\n",
      "(1, 1, 1, 1)\n"
     ]
    }
   ],
   "source": [
    "x = 'bug' * 3\n",
    "y = [1,2,3] * 4\n",
    "z = (1,) * 4\n",
    "\n",
    "print(x)\n",
    "print(y)\n",
    "print(z)"
   ]
  },
  {
   "cell_type": "code",
   "execution_count": 12,
   "metadata": {},
   "outputs": [
    {
     "name": "stdout",
     "output_type": "stream",
     "text": [
      "bugtesttesttest\n",
      "[1, 3, 4, 1, 3, 4, 1, 3, 4, 122]\n",
      "(1, 23, 24, 4, 24, 4, 24, 4, 24, 4)\n"
     ]
    }
   ],
   "source": [
    "x = 'bug' + 'test' * 3\n",
    "y = [1,3,4] * 3 + [122]\n",
    "z = (1,23) + (24,4) * 4\n",
    "print(x)\n",
    "print(y)\n",
    "print(z)"
   ]
  },
  {
   "cell_type": "markdown",
   "metadata": {},
   "source": [
    "checking membership: test whether an item is a or not a member of a sequence using \"in\" key word\n",
    "eg: \n",
    "- 'u' in 'bug'\n",
    "- 23 in [1,2,3,4]\n",
    "- 'bug' in ('bug', 'test')"
   ]
  },
  {
   "cell_type": "code",
   "execution_count": 14,
   "metadata": {},
   "outputs": [
    {
     "name": "stdout",
     "output_type": "stream",
     "text": [
      "True\n",
      "False\n",
      "True\n"
     ]
    }
   ],
   "source": [
    "x = 'this is life'\n",
    "y = [1,3,4,5,6]\n",
    "z = (1,3,4,5,5)\n",
    "\n",
    "#print(3 in x) # this will throw an error ('in ' requires string as left operand, not int)\n",
    "print('this' in x)\n",
    "print('bug' in y) # but this wont throw error because numbers can be converted to string but not vice versa\n",
    "print(1 in z)\n",
    "\n"
   ]
  },
  {
   "cell_type": "markdown",
   "metadata": {},
   "source": [
    "iterating: iterating through a sequence can be done using for or foreach loop or use enumerate(lst) to get index and item\n",
    "\n",
    "foreach : for item in x:\n",
    "\n",
    "for: for i in range of (something)\n",
    "\n",
    "for enumerate: for index, item in enumerate(lst)"
   ]
  },
  {
   "cell_type": "code",
   "execution_count": 19,
   "metadata": {},
   "outputs": [
    {
     "name": "stdout",
     "output_type": "stream",
     "text": [
      "1\n",
      "3\n",
      "4\n",
      "5\n",
      "this life is great \n",
      "1  is in index  0\n",
      "3  is in index  1\n",
      "4  is in index  2\n",
      "5  is in index  3\n",
      "6  is in index  4\n"
     ]
    }
   ],
   "source": [
    "x = [1,3,4,5]\n",
    "for num in x:\n",
    "    print(num)\n",
    "\n",
    "y = ('this', 'life', 'is', 'great')\n",
    "res = ''\n",
    "for i in range(len(y)):\n",
    "    res += y[i] + ' '\n",
    "print(res)\n",
    "\n",
    "z = (1, 3, 4, 5,6)\n",
    "for index, item in enumerate(z):\n",
    "    print(str(item) , ' is in index ' , str(index))  # int should be explicitly converted to string otherwise we get error"
   ]
  },
  {
   "cell_type": "markdown",
   "metadata": {},
   "source": [
    "number of items: to get the count of item we use len(sequence)"
   ]
  },
  {
   "cell_type": "code",
   "execution_count": 22,
   "metadata": {},
   "outputs": [
    {
     "name": "stdout",
     "output_type": "stream",
     "text": [
      "3\n",
      "5\n",
      "6\n",
      "52\n"
     ]
    }
   ],
   "source": [
    "x = 'bug'\n",
    "y = [1,3,5,5,6]\n",
    "z = (1,3,4,5,5,'bug')\n",
    "print(len(x))\n",
    "print(len(y))\n",
    "print(len(z))\n",
    "\n"
   ]
  },
  {
   "cell_type": "markdown",
   "metadata": {},
   "source": [
    "minimum : find the min item in a sequence lexicographically\n",
    "alpha or numeric but cannot mix both\n",
    "\n",
    "allowed -> min([1,3,55,5])\n",
    "not allowed -> min([1,3,4,5,'bg'])"
   ]
  },
  {
   "cell_type": "code",
   "execution_count": 23,
   "metadata": {},
   "outputs": [
    {
     "name": "stdout",
     "output_type": "stream",
     "text": [
      "a\n",
      "3\n",
      "ahb\n"
     ]
    }
   ],
   "source": [
    "x = 'buga'\n",
    "y = (55,3,4,5,3,5)\n",
    "z = ('jakc', 'sparw', 'ahb')\n",
    "print(min(x))\n",
    "print(min(y))\n",
    "print(min(z))"
   ]
  },
  {
   "cell_type": "markdown",
   "metadata": {},
   "source": [
    "maximum : finds the max item in a sequence lexicographically.\n",
    "alpha or numeric but not both"
   ]
  },
  {
   "cell_type": "code",
   "execution_count": 24,
   "metadata": {},
   "outputs": [
    {
     "name": "stdout",
     "output_type": "stream",
     "text": [
      "u\n",
      "200\n",
      "fsdf\n"
     ]
    }
   ],
   "source": [
    "x = 'bug'\n",
    "y = [13,4,5,2,3,200]\n",
    "z=('bdef', 'de4324','fsdf')\n",
    "print(max(x))\n",
    "print(max(y))\n",
    "print(max(z))"
   ]
  },
  {
   "cell_type": "markdown",
   "metadata": {},
   "source": [
    "sum: finds the sum of all elements in the sequence.\n",
    "\n",
    "elements must be numeric otherwise get error"
   ]
  },
  {
   "cell_type": "code",
   "execution_count": 27,
   "metadata": {},
   "outputs": [
    {
     "name": "stdout",
     "output_type": "stream",
     "text": [
      "18\n",
      "5\n",
      "19\n"
     ]
    }
   ],
   "source": [
    "# x = ['5ds', 'fbug',5]   # TypeError: unsupported operand type(s) for +: 'int' and 'str'\n",
    "# print(sum(x))\n",
    "\n",
    "y = [1,3,4,5,5]\n",
    "print(sum(y))\n",
    "\n",
    "print(sum(y[4:]))\n",
    "\n",
    "z = (1,3,5,5,6)\n",
    "print(sum(z[-4:]))"
   ]
  },
  {
   "cell_type": "markdown",
   "metadata": {},
   "source": [
    "sorting: \"sorted(sequence)\" returns a new list with items sorted. \n",
    "does not change the original sequence"
   ]
  },
  {
   "cell_type": "code",
   "execution_count": 30,
   "metadata": {},
   "outputs": [
    {
     "name": "stdout",
     "output_type": "stream",
     "text": [
      "['a', 'b', 'c', 'g', 'u']\n",
      "[1, 3, 3, 4, 5, 6, 22, 44, 223]\n",
      "['ava', 'habib', 'jack', 'tom']\n"
     ]
    }
   ],
   "source": [
    "x = 'bugac' # converts string to list and then sort it and return a new list\n",
    "print(sorted(x))\n",
    "\n",
    "y = [1,3,4,5,6,44,223,22,3]\n",
    "print(sorted(y))\n",
    "\n",
    "z = ('jack', 'habib', 'ava', 'tom')\n",
    "print(sorted(z))"
   ]
  },
  {
   "cell_type": "markdown",
   "metadata": {},
   "source": [
    "sorting with lambda function : we can sort elements of sequence using multiple or other parameter using lambda fuction\n",
    "\n",
    "structure: sorted(sequence, key = lambda item: item[1]) --> sorted based on the second character\n",
    "sequence = ['habib', 'jack', 'tom']"
   ]
  },
  {
   "cell_type": "code",
   "execution_count": 32,
   "metadata": {},
   "outputs": [
    {
     "name": "stdout",
     "output_type": "stream",
     "text": [
      "['habib', 'jack', 'tom']\n"
     ]
    }
   ],
   "source": [
    "sequence = ['habib', 'jack', 'tom']\n",
    "sorted_sequence = sorted(sequence, key = lambda item : item[-1])\n",
    "print(sorted_sequence)"
   ]
  },
  {
   "cell_type": "markdown",
   "metadata": {},
   "source": [
    "count(item) : returns the count of an element inside a sequence\n",
    "\n",
    "structure : sequence.count(item)"
   ]
  },
  {
   "cell_type": "code",
   "execution_count": 33,
   "metadata": {},
   "outputs": [
    {
     "name": "stdout",
     "output_type": "stream",
     "text": [
      "0\n",
      "2\n",
      "1\n"
     ]
    }
   ],
   "source": [
    "x = 'hippo'\n",
    "y = [1,3,4,5,3,2]\n",
    "z = ('jack', 'habib', 'tom')\n",
    "\n",
    "print(x.count('a'))\n",
    "print(y.count(3))\n",
    "print(z.count('habib'))"
   ]
  },
  {
   "cell_type": "markdown",
   "metadata": {},
   "source": [
    "index(item) : returns the first index of an item inside a sequence\n",
    "\n",
    "structure: sequence.index(item)\n",
    "\n",
    "if it does not find the element then it throws error \"substring not found\" or anything else not found"
   ]
  },
  {
   "cell_type": "code",
   "execution_count": 43,
   "metadata": {},
   "outputs": [
    {
     "name": "stdout",
     "output_type": "stream",
     "text": [
      "2\n",
      "1\n",
      "2\n"
     ]
    }
   ],
   "source": [
    "x = 'hippo'\n",
    "y = [1,3,4,5,3,2]\n",
    "z = ('jack', 'habib', 'tom')\n",
    "\n",
    "print(x.index('p'))\n",
    "#print(x.index(322)) --> TypeError: must be str, not int\n",
    "print(y.index(3))\n",
    "#print(z.index('to')) --> throws error : tuple.index(x): x not in tuple\n",
    "print(z.index('tom'))\n",
    "# print(x.index('a')) --> ValueError: substring not found\n"
   ]
  },
  {
   "cell_type": "markdown",
   "metadata": {},
   "source": [
    "unpacking: we can unpack a sequence into variables\n",
    "\n",
    "variables should be equal to number of items in the sequence"
   ]
  },
  {
   "cell_type": "code",
   "execution_count": 46,
   "metadata": {},
   "outputs": [
    {
     "name": "stdout",
     "output_type": "stream",
     "text": [
      "jack bom yom\n"
     ]
    },
    {
     "ename": "ValueError",
     "evalue": "not enough values to unpack (expected 4, got 3)",
     "output_type": "error",
     "traceback": [
      "\u001b[0;31m---------------------------------------------------------------------------\u001b[0m",
      "\u001b[0;31mValueError\u001b[0m                                Traceback (most recent call last)",
      "\u001b[1;32m/Users/habibmac/Documents/PythonDSA/pDSA.ipynb Cell 29\u001b[0m in \u001b[0;36m8\n\u001b[1;32m      <a href='vscode-notebook-cell:/Users/habibmac/Documents/PythonDSA/pDSA.ipynb#X41sZmlsZQ%3D%3D?line=2'>3</a>\u001b[0m \u001b[39mprint\u001b[39m(a,b,c)\n\u001b[1;32m      <a href='vscode-notebook-cell:/Users/habibmac/Documents/PythonDSA/pDSA.ipynb#X41sZmlsZQ%3D%3D?line=4'>5</a>\u001b[0m \u001b[39m# a,b = x  #-> ValueError: too many values to unpack (expected 2)\u001b[39;00m\n\u001b[1;32m      <a href='vscode-notebook-cell:/Users/habibmac/Documents/PythonDSA/pDSA.ipynb#X41sZmlsZQ%3D%3D?line=5'>6</a>\u001b[0m \u001b[39m# print(a,b)\u001b[39;00m\n\u001b[0;32m----> <a href='vscode-notebook-cell:/Users/habibmac/Documents/PythonDSA/pDSA.ipynb#X41sZmlsZQ%3D%3D?line=7'>8</a>\u001b[0m a,b,c,d \u001b[39m=\u001b[39m x\n\u001b[1;32m      <a href='vscode-notebook-cell:/Users/habibmac/Documents/PythonDSA/pDSA.ipynb#X41sZmlsZQ%3D%3D?line=8'>9</a>\u001b[0m \u001b[39mprint\u001b[39m(a,b,c,d)\n",
      "\u001b[0;31mValueError\u001b[0m: not enough values to unpack (expected 4, got 3)"
     ]
    }
   ],
   "source": [
    "x = ['jack','bom', 'yom']\n",
    "a, b, c = x\n",
    "print(a,b,c)\n",
    "\n",
    "# a,b = x  # ValueError: too many values to unpack (expected 2)\n",
    "# print(a,b)\n",
    "\n",
    "# a,b,c,d = x  # ValueError: not enough values to unpack (expected 4, got 3)\n",
    "# print(a,b,c,d)"
   ]
  },
  {
   "cell_type": "markdown",
   "metadata": {},
   "source": [
    "lists:\n",
    "- grow and shrink size as needed\n",
    "- sequence type\n",
    "- sortable "
   ]
  },
  {
   "cell_type": "code",
   "execution_count": 48,
   "metadata": {},
   "outputs": [
    {
     "name": "stdout",
     "output_type": "stream",
     "text": [
      "[1, 3, 4, 5]\n",
      "['a', 'b', 'c', 'd', 'e', 'f', 'e', 'w', 'r']\n",
      "[0, 1, 2, 3, 4, 5, 6, 7, 8, 9]\n",
      "[0, 4, 16, 36, 64]\n"
     ]
    }
   ],
   "source": [
    "x = list()\n",
    "y = [1,3,4, 'ab', '32', 3.2]\n",
    "\n",
    "t = (1,3,4,5)\n",
    "s = 'abcdefewr'\n",
    "z = list(t)\n",
    "z2 = list(s)\n",
    "print(z)\n",
    "print(z2)\n",
    "\n",
    "# list comprehension\n",
    "a = [m for m in range(10)]\n",
    "print(a)\n",
    "\n",
    "b = [i**2 for i in range(10) if i%2 == 0]\n",
    "print(b)\n"
   ]
  },
  {
   "cell_type": "markdown",
   "metadata": {},
   "source": [
    "delete: can delete an item or the whole list using \"del\" key word\n",
    "\n",
    "structures: \n",
    "- del(item)\n",
    "- del(lst)"
   ]
  },
  {
   "cell_type": "code",
   "execution_count": 50,
   "metadata": {},
   "outputs": [
    {
     "name": "stdout",
     "output_type": "stream",
     "text": [
      "[1, 3, 4, 2]\n",
      "[1, 4, 2]\n"
     ]
    }
   ],
   "source": [
    "x = [1,3,4,2]\n",
    "print(x)\n",
    "del(x[1])\n",
    "print(x)\n",
    "del(x)\n",
    "# print(x)  -> throws error since x does not exist anymore"
   ]
  },
  {
   "cell_type": "markdown",
   "metadata": {},
   "source": [
    "append : adds an item to the end of a list\n"
   ]
  },
  {
   "cell_type": "code",
   "execution_count": 52,
   "metadata": {},
   "outputs": [
    {
     "name": "stdout",
     "output_type": "stream",
     "text": [
      "[3, 4, 5, 6]\n",
      "[3, 4, 5, 6, 100]\n",
      "[3, 4, 5, 6, 100, [2, 3, 45]]\n"
     ]
    }
   ],
   "source": [
    "x = [3,4,5,6]\n",
    "print(x)\n",
    "\n",
    "x.append(100)\n",
    "print(x)\n",
    "\n",
    "x.append([2,3,45])\n",
    "print(x)"
   ]
  },
  {
   "cell_type": "markdown",
   "metadata": {},
   "source": [
    "extend: similar to + function adds all elements of a sequence to the end of our list"
   ]
  },
  {
   "cell_type": "code",
   "execution_count": 55,
   "metadata": {},
   "outputs": [
    {
     "name": "stdout",
     "output_type": "stream",
     "text": [
      "[4, 3, 2, 3]\n",
      "[4, 3, 2, 3, 44, 33, 22]\n",
      "[4, 3, 2, 3, 44, 33, 22, 's', 'b', 'd', 's', 'd', 'f']\n",
      "[4, 3, 2, 3, 44, 33, 22, 's', 'b', 'd', 's', 'd', 'f', 32, 32]\n"
     ]
    }
   ],
   "source": [
    "x = [4,3,2,3]\n",
    "y = [44,33,22]\n",
    "z = 'sbdsdf'\n",
    "\n",
    "t = (32,32)\n",
    "print(x)\n",
    "x.extend(y)\n",
    "print(x)\n",
    "\n",
    "x.extend(z)  # converts string to a list and then extends it to x\n",
    "print(x)\n",
    "\n",
    "x.extend(t)\n",
    "print(x)"
   ]
  },
  {
   "cell_type": "markdown",
   "metadata": {},
   "source": [
    "insert : inserts an item at a give index\n",
    "\n",
    "structure: sequence.insert(index, item)"
   ]
  },
  {
   "cell_type": "code",
   "execution_count": 64,
   "metadata": {},
   "outputs": [
    {
     "name": "stdout",
     "output_type": "stream",
     "text": [
      "[4, 3, 2, 34, 5]\n",
      "[4, 55, 3, 2, 34, 5]\n",
      "[4, 55, 3, 'abicd', 2, 34, 5]\n",
      "[4, 55, 3, 'abicd', 2, 34, 5, 112]\n",
      "[332, 4, 55, 3, 'abicd', 2, 34, 5, 112]\n"
     ]
    }
   ],
   "source": [
    "x = [4,3,2,34,5]\n",
    "y = 'abicd'\n",
    "print(x)\n",
    "\n",
    "x.insert(1,55)\n",
    "print(x)\n",
    "\n",
    "x.insert(3, y)\n",
    "print(x)\n",
    "\n",
    "x.insert(111, 112) # inserts 112 at the end of the list\n",
    "print(x)\n",
    "\n",
    "x.insert(-100, 332) # inserts 332 at the beginning of the list\n",
    "print(x)"
   ]
  },
  {
   "cell_type": "markdown",
   "metadata": {},
   "source": [
    "pop: pops the last items from the list and returns it"
   ]
  },
  {
   "cell_type": "code",
   "execution_count": 65,
   "metadata": {},
   "outputs": [
    {
     "name": "stdout",
     "output_type": "stream",
     "text": [
      "[1, 3, 4, 5] 6\n"
     ]
    }
   ],
   "source": [
    "x = [1,3,4,5,6]\n",
    "y = x.pop()\n",
    "\n",
    "print(x, y)\n"
   ]
  },
  {
   "cell_type": "markdown",
   "metadata": {},
   "source": [
    "remove: remove the first instance of an item\n",
    "\n",
    "if it does not find the element then throws error \"ValueError: list.remove(x): x not in list\""
   ]
  },
  {
   "cell_type": "code",
   "execution_count": 68,
   "metadata": {},
   "outputs": [
    {
     "name": "stdout",
     "output_type": "stream",
     "text": [
      "[1, 4, 3, 5, 6]\n"
     ]
    }
   ],
   "source": [
    "x = [1,3,4,3,5,6]\n",
    "x.remove(3)\n",
    "\n",
    "print(x)\n",
    "\n",
    "# x.remove(0)  ValueError: list.remove(x): x not in list\n"
   ]
  },
  {
   "cell_type": "markdown",
   "metadata": {},
   "source": [
    "reverse : reverses the order of a list. it is in-place operation and changes the actual list"
   ]
  },
  {
   "cell_type": "code",
   "execution_count": 71,
   "metadata": {},
   "outputs": [
    {
     "name": "stdout",
     "output_type": "stream",
     "text": [
      "[1, 3, 4, 5]\n",
      "[5, 4, 3, 1]\n",
      "[]\n"
     ]
    }
   ],
   "source": [
    "x = [1,3,4,5]\n",
    "print(x)\n",
    "x.reverse()\n",
    "print(x)\n",
    "\n",
    "y = []\n",
    "y.reverse()\n",
    "print(y)"
   ]
  },
  {
   "cell_type": "markdown",
   "metadata": {},
   "source": [
    "sort: sorts a list\n",
    "\n",
    "- sorted(x) : returned a new list\n",
    "- x.sort() : in-place sort and does not return a new list"
   ]
  },
  {
   "cell_type": "code",
   "execution_count": 72,
   "metadata": {},
   "outputs": [
    {
     "name": "stdout",
     "output_type": "stream",
     "text": [
      "[2, 3, 4, 6, 7, 8]\n"
     ]
    }
   ],
   "source": [
    "x =[4,3,2,6,8,7]\n",
    "x.sort()\n",
    "print(x)"
   ]
  },
  {
   "cell_type": "markdown",
   "metadata": {},
   "source": [
    "reverse sort: pass argument reverse=True to x.sort function\n",
    "\n",
    "structure: x.sort(reverse=True)"
   ]
  },
  {
   "cell_type": "code",
   "execution_count": 73,
   "metadata": {},
   "outputs": [
    {
     "name": "stdout",
     "output_type": "stream",
     "text": [
      "[42, 6, 4, 3, 3, 2, 1]\n"
     ]
    }
   ],
   "source": [
    "x = [1,4,6,42,3,2,3]\n",
    "x.sort(reverse=True)\n",
    "print(x)"
   ]
  },
  {
   "cell_type": "markdown",
   "metadata": {},
   "source": [
    "Tuples:\n",
    "\n",
    "- immutable (can't be changed)\n",
    "- hashable (can be used as a dictionary key)\n",
    "- faster than a list\n",
    "- sequence type"
   ]
  },
  {
   "cell_type": "code",
   "execution_count": 78,
   "metadata": {},
   "outputs": [
    {
     "name": "stdout",
     "output_type": "stream",
     "text": [
      "(2,) <class 'tuple'>\n",
      "(1, 3, 4, 5) <class 'tuple'>\n",
      "('a', 'b', 'c', 'd', 'e', 'f') <class 'tuple'>\n",
      "True\n",
      "False\n"
     ]
    }
   ],
   "source": [
    "x = ()\n",
    "x = (1,3,4)\n",
    "x = 1,3,4\n",
    "x = 2,\n",
    "\n",
    "print(x, type(x))\n",
    "\n",
    "l = [1,3,4,5]\n",
    "y = tuple(l)\n",
    "print(y, type(y))\n",
    "\n",
    "s = 'abcdef'\n",
    "z = tuple(s)\n",
    "print(z, type(z))\n",
    "\n",
    "print(type(z) == tuple)\n",
    "print(type(z) == str)"
   ]
  },
  {
   "cell_type": "markdown",
   "metadata": {},
   "source": [
    "tuples are immutable but member objects may be mutable."
   ]
  },
  {
   "cell_type": "code",
   "execution_count": 86,
   "metadata": {},
   "outputs": [
    {
     "name": "stdout",
     "output_type": "stream",
     "text": [
      "(1, 3, 45)\n",
      "([1, 3, 45], 3) 4461695360\n",
      "([1, 45], 3) 4461695360\n",
      "([1, 45], 3, 4, 3) 4460139744\n"
     ]
    }
   ],
   "source": [
    "x = (1,3,45)\n",
    "# del(x[1])  # TypeError: 'tuple' object doesn't support item deletion\n",
    "# x[1] =2  # TypeError: 'tuple' object does not support item assignment\n",
    "print(x)\n",
    "\n",
    "x = ([1,3,45], 3)\n",
    "print(x, id(x))\n",
    "del(x[0][1])\n",
    "print(x, id(x))\n",
    "\n",
    "x += (4,3)  #it allows concatenation -> because it creates a new tuple an returns a new tuple\n",
    "print(x, id(x))\n"
   ]
  },
  {
   "cell_type": "markdown",
   "metadata": {},
   "source": [
    "Sets:\n",
    "- store unique items\n",
    "- very fast access (O(1))\n",
    "- supports all math Set ops (union, intersect)\n",
    "- sets are unsorted (can't be sorted)"
   ]
  },
  {
   "cell_type": "code",
   "execution_count": 100,
   "metadata": {},
   "outputs": [
    {
     "name": "stdout",
     "output_type": "stream",
     "text": [
      "{1, 3, 4, 5, 6}\n",
      "set()\n",
      "{1, 2, 3, 4} <class 'set'> 4460374816\n",
      "{'c', 'b', 'd', 'e', 'f', 'a', 's'} 4460370784\n",
      "{'habib', 'c', 'b', 'd', 'e', 'f', 'a', 's'}\n",
      "{'habib', 'b', 'd', 'e', 'f', 'a', 's'}\n",
      "7\n",
      "False\n",
      "habib {'b', 'd', 'e', 'f', 'a', 's'}\n",
      "set()\n"
     ]
    },
    {
     "ename": "NameError",
     "evalue": "name 'zs' is not defined",
     "output_type": "error",
     "traceback": [
      "\u001b[0;31m---------------------------------------------------------------------------\u001b[0m",
      "\u001b[0;31mNameError\u001b[0m                                 Traceback (most recent call last)",
      "\u001b[1;32m/Users/habibmac/Documents/PythonDSA/pDSA.ipynb Cell 55\u001b[0m in \u001b[0;36m3\n\u001b[1;32m     <a href='vscode-notebook-cell:/Users/habibmac/Documents/PythonDSA/pDSA.ipynb#Y110sZmlsZQ%3D%3D?line=31'>32</a>\u001b[0m \u001b[39mprint\u001b[39m(zs)\n\u001b[1;32m     <a href='vscode-notebook-cell:/Users/habibmac/Documents/PythonDSA/pDSA.ipynb#Y110sZmlsZQ%3D%3D?line=33'>34</a>\u001b[0m \u001b[39mdel\u001b[39;00m(zs)\n\u001b[0;32m---> <a href='vscode-notebook-cell:/Users/habibmac/Documents/PythonDSA/pDSA.ipynb#Y110sZmlsZQ%3D%3D?line=34'>35</a>\u001b[0m \u001b[39mprint\u001b[39m(zs)\n",
      "\u001b[0;31mNameError\u001b[0m: name 'zs' is not defined"
     ]
    }
   ],
   "source": [
    "x = {1,3,4,5,6,3}\n",
    "print(x)\n",
    "\n",
    "y = set()\n",
    "print(y)\n",
    "\n",
    "lst = [1,3,4,3,2,3]\n",
    "z = set(lst)\n",
    "print(z, type(z), id(z))\n",
    "\n",
    "s = 'abcdeffsd'\n",
    "zs = set(s)  #converts the string to a list and then add the list to set\n",
    "print(zs, id(zs))\n",
    "\n",
    "\n",
    "zs.add('habib')\n",
    "print(zs)\n",
    "\n",
    "#zs.remove('jack')  # cant find 'jack' throws error : KeyError: 'jack'\n",
    "#print(zs)\n",
    "\n",
    "zs.remove('c')\n",
    "print(zs)\n",
    "\n",
    "print(len(zs))\n",
    "\n",
    "print('c' in zs)\n",
    "\n",
    "print(zs.pop(), zs)\n",
    "\n",
    "zs.clear()\n",
    "print(zs)\n",
    "\n",
    "del(zs)\n",
    "# print(zs)"
   ]
  },
  {
   "cell_type": "markdown",
   "metadata": {},
   "source": [
    "Mathematical Set Operations:\n",
    "\n",
    "intersection (AND) : s1 & s2 \n",
    "union (OR) : s1 | s2\n",
    "symmetric difference (XOR): s1 ^ s2 (items that not shared between them)\n",
    "difference (-): s1 - s2 (items in s1 but not s2)\n",
    "subset (s2 contains s1): s1 <= s2\n",
    "superset (s1 contains s1): s1 >= s2"
   ]
  },
  {
   "cell_type": "code",
   "execution_count": 107,
   "metadata": {},
   "outputs": [
    {
     "name": "stdout",
     "output_type": "stream",
     "text": [
      "intersection  {3} <class 'set'>\n",
      "union  {1, 2, 3, 4, 5} <class 'set'>\n",
      "xor {1, 2, 4, 5} <class 'set'>\n",
      "difference  {1, 2, 3} - {3, 4, 5} {1, 2}\n",
      "{1, 2, 3} is subset of  {3, 4, 5} False\n",
      "{1, 2, 3} is superset of {3, 4, 5} False\n"
     ]
    }
   ],
   "source": [
    "s1 = {1,3,2}\n",
    "s2 = {3,4,5}\n",
    "\n",
    "i = s1 & s2\n",
    "print('intersection ', i, type(i))\n",
    "\n",
    "u = s1 | s2\n",
    "print('union ', u, type(u))\n",
    "\n",
    "x = s1 ^ s2\n",
    "print('xor', x, type(x))\n",
    "\n",
    "d = s1 - s2\n",
    "print('difference ', s1, '-',s2, d)\n",
    "\n",
    "sub = s1 <= s2\n",
    "print(s1, 'is subset of ', s2, sub)\n",
    "\n",
    "sup = s1 >= s2\n",
    "print(s1, 'is superset of', s2, sup)\n"
   ]
  },
  {
   "cell_type": "markdown",
   "metadata": {},
   "source": [
    "Dictionary (dict):\n",
    "- key/value pair\n",
    "- associative array, like java hashMap\n",
    "- it is unordered\n",
    "- can't be sorted"
   ]
  },
  {
   "cell_type": "code",
   "execution_count": 111,
   "metadata": {},
   "outputs": [
    {
     "name": "stdout",
     "output_type": "stream",
     "text": [
      "{'tea': 3.3, 'coffee': 4, 'water': 1}\n",
      "{'tea': 3.3, 'coffee': 4, 'water': 2}\n",
      "{'tea': 23, 'coffee': 43, 'water': 111}\n"
     ]
    }
   ],
   "source": [
    "x = {'tea':3.3, 'coffee':4, 'water':1}\n",
    "print(x)\n",
    "\n",
    "y = dict([('tea',3.3),('coffee',4), ('water',2)])\n",
    "print(y)\n",
    "\n",
    "z = dict(tea=23, coffee=43,water=111)\n",
    "print(z)"
   ]
  },
  {
   "cell_type": "markdown",
   "metadata": {},
   "source": [
    "dict operations"
   ]
  },
  {
   "cell_type": "code",
   "execution_count": 118,
   "metadata": {},
   "outputs": [
    {
     "name": "stdout",
     "output_type": "stream",
     "text": [
      "{'tea': 3.3, 'coffee': 4, 'water': 1, 'cola': 10}\n",
      "{'tea': 3.3, 'coffee': 4, 'water': 1}\n",
      "length of x 3\n",
      "{}\n"
     ]
    }
   ],
   "source": [
    "# add cola to dictionary x\n",
    "x = {'tea':3.3, 'coffee':4, 'water':1}\n",
    "x['cola'] = 10 # if cola was already there then it would update its value\n",
    "print(x)\n",
    "\n",
    "del(x['cola'])\n",
    "print(x)\n",
    "\n",
    "# del(x['class'])  # throws error because class is not a member of x (KeyError: 'class')\n",
    "# print(x)\n",
    "\n",
    "print('length of x', len(x))\n",
    "\n",
    "x.clear()\n",
    "print(x)\n",
    "\n",
    "del(x)"
   ]
  },
  {
   "cell_type": "markdown",
   "metadata": {},
   "source": [
    "accessing keys and values in a dict:\n",
    "we can access keys and values separately (won't work with python 2.0 or below)"
   ]
  },
  {
   "cell_type": "code",
   "execution_count": 126,
   "metadata": {},
   "outputs": [
    {
     "name": "stdout",
     "output_type": "stream",
     "text": [
      "dict_keys(['tea', 'coffee', 'water']) <class 'dict_keys'> 4449237456\n",
      "dict_values([3.3, 4, 1]) <class 'dict_values'> 4449236016\n",
      "dict_items([('tea', 3.3), ('coffee', 4), ('water', 1)]) <class 'dict_items'> 4449235008\n",
      "tea 3.3\n",
      "coffee 4\n",
      "water 1\n",
      "True\n",
      "False\n",
      "False\n",
      "True\n"
     ]
    }
   ],
   "source": [
    "x = {'tea':3.3, 'coffee':4, 'water':1}\n",
    "\n",
    "keys = x.keys()\n",
    "print(keys, type(keys), id(keys))\n",
    "\n",
    "values = x.values()\n",
    "print(values, type(values), id(values))\n",
    "\n",
    "items = x.items()\n",
    "print(items, type(items), id(items))\n",
    "\n",
    "for key, value in items:\n",
    "    print(key, value)\n",
    "\n",
    "\n",
    "print('coffee' in x) # check for keys automatically\n",
    "print('jack' in x)\n",
    "\n",
    "print(3 in x.values())\n",
    "print(3.3 in x.values())"
   ]
  },
  {
   "cell_type": "markdown",
   "metadata": {},
   "source": [
    "iterating a dict"
   ]
  },
  {
   "cell_type": "code",
   "execution_count": 130,
   "metadata": {},
   "outputs": [
    {
     "name": "stdout",
     "output_type": "stream",
     "text": [
      "tea\n",
      "coffee\n",
      "water\n",
      "tea 3.3\n",
      "coffee 4\n",
      "water 1\n",
      "{'tea': 100, 'coffee': 4, 'water': 1}\n"
     ]
    }
   ],
   "source": [
    "x = {'tea':3.3, 'coffee':4, 'water':1}\n",
    "\n",
    "for key in x:\n",
    "    print(key)\n",
    "\n",
    "for key, value in x.items():\n",
    "    if(key == 'tea'):\n",
    "        x[key] = 100\n",
    "    print(key, value)\n",
    "print(x)"
   ]
  },
  {
   "cell_type": "markdown",
   "metadata": {},
   "source": [
    "python list comprehensions\n",
    "\n",
    "structure: new_list = [transform sequence [filter]]"
   ]
  },
  {
   "cell_type": "code",
   "execution_count": 131,
   "metadata": {},
   "outputs": [],
   "source": [
    "import random"
   ]
  },
  {
   "cell_type": "markdown",
   "metadata": {},
   "source": [
    "EXAMPLE 1: get values with given range"
   ]
  },
  {
   "cell_type": "code",
   "execution_count": 136,
   "metadata": {},
   "outputs": [
    {
     "name": "stdout",
     "output_type": "stream",
     "text": [
      "[10, 11, 12, 13, 14, 15, 16, 17, 18, 19, 20, 21, 22, 23, 24, 25, 26, 27, 28, 29, 30, 31, 32, 33, 34, 35, 36, 37, 38, 39, 40, 41, 42, 43, 44, 45, 46, 47, 48, 49, 50, 51, 52, 53, 54, 55, 56, 57, 58, 59, 60, 61, 62, 63, 64, 65, 66, 67, 68, 69, 70, 71, 72, 73, 74, 75, 76, 77, 78, 79, 80, 81, 82, 83, 84, 85, 86, 87, 88, 89, 90, 91, 92, 93, 94, 95, 96, 97, 98, 99]\n",
      "[10, 11, 12, 13, 14, 15, 16, 17, 18, 19]\n",
      "between 10 and 20 [10, 11, 12, 13, 14, 15, 16, 17, 18, 19]\n"
     ]
    }
   ],
   "source": [
    "def get_list_values(end, start = 0, inclusive_end = False):\n",
    "    end = end + 1 if inclusive_end else end\n",
    "    lst = [num for num in range(start, end)]\n",
    "    return lst\n",
    "\n",
    "val_between_10_99 = get_list_values(99, 10, True)\n",
    "print(val_between_10_99)\n",
    "\n",
    "val_between_10_20 = get_list_values(20, 10, False)\n",
    "print(val_between_10_20)\n",
    "\n",
    "print('between 10 and 20', str(val_between_10_20))"
   ]
  },
  {
   "cell_type": "markdown",
   "metadata": {},
   "source": [
    "EXAMPLE 2: get sqaured values between given range"
   ]
  },
  {
   "cell_type": "code",
   "execution_count": 138,
   "metadata": {},
   "outputs": [
    {
     "name": "stdout",
     "output_type": "stream",
     "text": [
      "values between 10 and 20 [100, 121, 144, 169, 196, 225, 256, 289, 324, 361, 400]\n"
     ]
    }
   ],
   "source": [
    "def get_squared_range(start = 0, end = 0, inclusive_end = False):\n",
    "    end = end + 1 if inclusive_end else end\n",
    "    lst = [num ** 2 for num in range(start,end)]\n",
    "    \n",
    "    return lst\n",
    "\n",
    "range_10_20 = get_squared_range(10, 20, inclusive_end=True)\n",
    "print('values between 10 and 20', range_10_20)\n"
   ]
  },
  {
   "cell_type": "markdown",
   "metadata": {},
   "source": [
    "EXAMPLE 3: get n power of values between range start and end"
   ]
  },
  {
   "cell_type": "code",
   "execution_count": 139,
   "metadata": {},
   "outputs": [
    {
     "name": "stdout",
     "output_type": "stream",
     "text": [
      "power 4 of 10 to 20 [10000, 14641, 20736, 28561, 38416, 50625, 65536, 83521, 104976, 130321]\n"
     ]
    }
   ],
   "source": [
    "def get_n_power_range(start = 0, end = 0, power = 1, inclusive_end = False):\n",
    "    end = end + 1 if inclusive_end else end\n",
    "\n",
    "    lst = [num ** power for num in range(start,end)]\n",
    "    return lst\n",
    "\n",
    "range_10_20_4 = get_n_power_range(10, 20, 4)\n",
    "print('power 4 of 10 to 20', range_10_20_4)\n"
   ]
  },
  {
   "cell_type": "markdown",
   "metadata": {},
   "source": [
    "EXAMPLE 4: get odd numbers give a range"
   ]
  },
  {
   "cell_type": "code",
   "execution_count": 141,
   "metadata": {},
   "outputs": [
    {
     "name": "stdout",
     "output_type": "stream",
     "text": [
      "odd value between 5 and 20 [5, 7, 9, 11, 13, 15, 17, 19]\n"
     ]
    }
   ],
   "source": [
    "def get_odd_range(start, end):\n",
    "    lst = [num for num in range(start, end) if num % 2 != 0]\n",
    "    return lst\n",
    "\n",
    "odd_5_20 = get_odd_range(5, 20)\n",
    "print('odd value between 5 and 20', odd_5_20)"
   ]
  },
  {
   "cell_type": "markdown",
   "metadata": {},
   "source": [
    "EXAMPLE 5: get mulitply of 10"
   ]
  },
  {
   "cell_type": "code",
   "execution_count": 142,
   "metadata": {},
   "outputs": [
    {
     "name": "stdout",
     "output_type": "stream",
     "text": [
      "[10, 20]\n"
     ]
    }
   ],
   "source": [
    "def get_multiply_10(start, end):\n",
    "    return [num for num in range(start, end) if num % 10 == 0]\n",
    "    \n",
    "print(get_multiply_10(5, 29))"
   ]
  },
  {
   "cell_type": "markdown",
   "metadata": {},
   "source": [
    "EXAMPLE 6: get all numbers from a string"
   ]
  },
  {
   "cell_type": "code",
   "execution_count": 147,
   "metadata": {},
   "outputs": [
    {
     "name": "stdout",
     "output_type": "stream",
     "text": [
      "[2, 0, 7, 3]\n",
      "12\n"
     ]
    }
   ],
   "source": [
    "s = 'I love 2 go t0 7eleven and 3at.'\n",
    "nums = [int(chr) for chr in (s) if chr.isdigit()]\n",
    "print(nums)\n",
    "print(sum(nums))"
   ]
  },
  {
   "cell_type": "markdown",
   "metadata": {},
   "source": [
    "EXAMPLE 7: get index of a given item"
   ]
  },
  {
   "cell_type": "code",
   "execution_count": 148,
   "metadata": {},
   "outputs": [
    {
     "name": "stdout",
     "output_type": "stream",
     "text": [
      "[7, 13, 15, 27]\n"
     ]
    }
   ],
   "source": [
    "s = 'I love 2 go t0 7eleven and 3at.'\n",
    "index_of_nums = [i for i,v in enumerate(s) if v.isdigit()] \n",
    "print(index_of_nums)"
   ]
  },
  {
   "cell_type": "markdown",
   "metadata": {},
   "source": [
    "EXAMPLE 8: given a list delete give item "
   ]
  },
  {
   "cell_type": "code",
   "execution_count": 150,
   "metadata": {},
   "outputs": [
    {
     "name": "stdout",
     "output_type": "stream",
     "text": [
      "['a', 'b', 'c', 'd', 'e', 'f']\n",
      "['e', 'd', 'c', 'f', 'b', 'a']\n",
      "no d here ['e', 'c', 'f', 'b', 'a']\n"
     ]
    }
   ],
   "source": [
    "letters = [x for x in 'abcdef']\n",
    "print(letters)\n",
    "\n",
    "random.shuffle(letters)\n",
    "print(letters)\n",
    "\n",
    "#return all values that are not d\n",
    "not_d_lst = [chr for chr in letters if chr != 'd']\n",
    "print('no d here', not_d_lst)"
   ]
  },
  {
   "cell_type": "markdown",
   "metadata": {},
   "source": [
    "if - else condition in comprehension\n",
    "\n",
    "- if and else should come before iteration"
   ]
  },
  {
   "cell_type": "markdown",
   "metadata": {},
   "source": [
    "EXAMPLE 9: mulitply only even by 10"
   ]
  },
  {
   "cell_type": "code",
   "execution_count": 151,
   "metadata": {},
   "outputs": [
    {
     "name": "stdout",
     "output_type": "stream",
     "text": [
      "[1, 20, 3, 40, 5, 60, 7, 80, 9, 100, 11, 120, 13, 140, 15, 160, 17, 180, 19]\n"
     ]
    }
   ],
   "source": [
    "nums = [num for num in range(1, 20)]\n",
    "\n",
    "even_multiply = [num * 10 if num % 2 == 0 else num for num in nums]\n",
    "print(even_multiply)"
   ]
  },
  {
   "cell_type": "markdown",
   "metadata": {},
   "source": [
    "nested loop iteration for 2d lst\n",
    "\n",
    "b is the subsets, x is the value"
   ]
  },
  {
   "cell_type": "code",
   "execution_count": 152,
   "metadata": {},
   "outputs": [
    {
     "name": "stdout",
     "output_type": "stream",
     "text": [
      "[2, 4, 6, 8]\n"
     ]
    }
   ],
   "source": [
    "a = [[1,2], [3,4]]\n",
    "new_lst = [x*2 for b in a for x in b]\n",
    "print(new_lst)"
   ]
  }
 ],
 "metadata": {
  "kernelspec": {
   "display_name": "Python 3",
   "language": "python",
   "name": "python3"
  },
  "language_info": {
   "codemirror_mode": {
    "name": "ipython",
    "version": 3
   },
   "file_extension": ".py",
   "mimetype": "text/x-python",
   "name": "python",
   "nbconvert_exporter": "python",
   "pygments_lexer": "ipython3",
   "version": "3.11.0"
  },
  "orig_nbformat": 4
 },
 "nbformat": 4,
 "nbformat_minor": 2
}
